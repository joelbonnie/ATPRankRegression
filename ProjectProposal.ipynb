{
 "cells": [
  {
   "cell_type": "markdown",
   "metadata": {},
   "source": [
    "<h1> DSCI 100 Project Proposal </h1>\n",
    "\n",
    "Introduction\n",
    "\n",
    "For this project, we will be making use of Assocation of Tennis Profesionals (ATP) results data to predict what characteristics make the 'ultimate player'. The dataset we are using has been compiled from Jeff Slackmans Github page (https://github.com/JeffSackmann/tennis_atp). The dataset contains information regarding the players, the match, and the tournament the match was played in. We aim to determine which player characteristics best predict the outcome of a tennis match. More aptly, if a player with a given set of characterisitcs appeared, how likely is it that they would win a match against another player with a different set of characterisitcs? Examples of player characteristics include age, handedness, height and ATP rank\n",
    "\n",
    "Match characteristics, though included in the dataset, cannot be used in this project, as they would \"give away\" the outcome of the match to the classifier.\n",
    "\n",
    "We are asking a regression question, as we are attempting to discern if one or more variables can be used to predict a numerical variable of interest, in this case, the optimal age, handedness, rank, height, etc. for a player, or in other words, how often does a player of x height/age/rank win?"
   ]
  },
  {
   "cell_type": "code",
   "execution_count": 1,
   "metadata": {},
   "outputs": [
    {
     "name": "stderr",
     "output_type": "stream",
     "text": [
      "── \u001b[1mAttaching packages\u001b[22m ─────────────────────────────────────── tidyverse 1.3.0 ──\n",
      "\n",
      "\u001b[32m✔\u001b[39m \u001b[34mggplot2\u001b[39m 3.3.2     \u001b[32m✔\u001b[39m \u001b[34mpurrr  \u001b[39m 0.3.4\n",
      "\u001b[32m✔\u001b[39m \u001b[34mtibble \u001b[39m 3.0.3     \u001b[32m✔\u001b[39m \u001b[34mdplyr  \u001b[39m 1.0.2\n",
      "\u001b[32m✔\u001b[39m \u001b[34mtidyr  \u001b[39m 1.1.2     \u001b[32m✔\u001b[39m \u001b[34mstringr\u001b[39m 1.4.0\n",
      "\u001b[32m✔\u001b[39m \u001b[34mreadr  \u001b[39m 1.3.1     \u001b[32m✔\u001b[39m \u001b[34mforcats\u001b[39m 0.5.0\n",
      "\n",
      "Warning message:\n",
      "“package ‘ggplot2’ was built under R version 4.0.1”\n",
      "Warning message:\n",
      "“package ‘tibble’ was built under R version 4.0.2”\n",
      "Warning message:\n",
      "“package ‘tidyr’ was built under R version 4.0.2”\n",
      "Warning message:\n",
      "“package ‘dplyr’ was built under R version 4.0.2”\n",
      "── \u001b[1mConflicts\u001b[22m ────────────────────────────────────────── tidyverse_conflicts() ──\n",
      "\u001b[31m✖\u001b[39m \u001b[34mdplyr\u001b[39m::\u001b[32mfilter()\u001b[39m masks \u001b[34mstats\u001b[39m::filter()\n",
      "\u001b[31m✖\u001b[39m \u001b[34mdplyr\u001b[39m::\u001b[32mlag()\u001b[39m    masks \u001b[34mstats\u001b[39m::lag()\n",
      "\n",
      "Warning message:\n",
      "“package ‘tidymodels’ was built under R version 4.0.2”\n",
      "── \u001b[1mAttaching packages\u001b[22m ────────────────────────────────────── tidymodels 0.1.1 ──\n",
      "\n",
      "\u001b[32m✔\u001b[39m \u001b[34mbroom    \u001b[39m 0.7.0      \u001b[32m✔\u001b[39m \u001b[34mrecipes  \u001b[39m 0.1.13\n",
      "\u001b[32m✔\u001b[39m \u001b[34mdials    \u001b[39m 0.0.9      \u001b[32m✔\u001b[39m \u001b[34mrsample  \u001b[39m 0.0.7 \n",
      "\u001b[32m✔\u001b[39m \u001b[34minfer    \u001b[39m 0.5.4      \u001b[32m✔\u001b[39m \u001b[34mtune     \u001b[39m 0.1.1 \n",
      "\u001b[32m✔\u001b[39m \u001b[34mmodeldata\u001b[39m 0.0.2      \u001b[32m✔\u001b[39m \u001b[34mworkflows\u001b[39m 0.2.0 \n",
      "\u001b[32m✔\u001b[39m \u001b[34mparsnip  \u001b[39m 0.1.3      \u001b[32m✔\u001b[39m \u001b[34myardstick\u001b[39m 0.0.7 \n",
      "\n",
      "Warning message:\n",
      "“package ‘broom’ was built under R version 4.0.2”\n",
      "Warning message:\n",
      "“package ‘dials’ was built under R version 4.0.2”\n",
      "Warning message:\n",
      "“package ‘infer’ was built under R version 4.0.3”\n",
      "Warning message:\n",
      "“package ‘modeldata’ was built under R version 4.0.1”\n",
      "Warning message:\n",
      "“package ‘parsnip’ was built under R version 4.0.2”\n",
      "Warning message:\n",
      "“package ‘recipes’ was built under R version 4.0.1”\n",
      "Warning message:\n",
      "“package ‘tune’ was built under R version 4.0.2”\n",
      "Warning message:\n",
      "“package ‘workflows’ was built under R version 4.0.2”\n",
      "Warning message:\n",
      "“package ‘yardstick’ was built under R version 4.0.2”\n",
      "── \u001b[1mConflicts\u001b[22m ───────────────────────────────────────── tidymodels_conflicts() ──\n",
      "\u001b[31m✖\u001b[39m \u001b[34mscales\u001b[39m::\u001b[32mdiscard()\u001b[39m masks \u001b[34mpurrr\u001b[39m::discard()\n",
      "\u001b[31m✖\u001b[39m \u001b[34mdplyr\u001b[39m::\u001b[32mfilter()\u001b[39m   masks \u001b[34mstats\u001b[39m::filter()\n",
      "\u001b[31m✖\u001b[39m \u001b[34mrecipes\u001b[39m::\u001b[32mfixed()\u001b[39m  masks \u001b[34mstringr\u001b[39m::fixed()\n",
      "\u001b[31m✖\u001b[39m \u001b[34mdplyr\u001b[39m::\u001b[32mlag()\u001b[39m      masks \u001b[34mstats\u001b[39m::lag()\n",
      "\u001b[31m✖\u001b[39m \u001b[34myardstick\u001b[39m::\u001b[32mspec()\u001b[39m masks \u001b[34mreadr\u001b[39m::spec()\n",
      "\u001b[31m✖\u001b[39m \u001b[34mrecipes\u001b[39m::\u001b[32mstep()\u001b[39m   masks \u001b[34mstats\u001b[39m::step()\n",
      "\n",
      "Warning message:\n",
      "“Missing column names filled in: 'X1' [1]”\n",
      "Parsed with column specification:\n",
      "cols(\n",
      "  .default = col_double(),\n",
      "  tourney_id = \u001b[31mcol_character()\u001b[39m,\n",
      "  tourney_name = \u001b[31mcol_character()\u001b[39m,\n",
      "  surface = \u001b[31mcol_character()\u001b[39m,\n",
      "  tourney_level = \u001b[31mcol_character()\u001b[39m,\n",
      "  winner_seed = \u001b[31mcol_character()\u001b[39m,\n",
      "  winner_entry = \u001b[31mcol_character()\u001b[39m,\n",
      "  winner_name = \u001b[31mcol_character()\u001b[39m,\n",
      "  winner_hand = \u001b[31mcol_character()\u001b[39m,\n",
      "  winner_ioc = \u001b[31mcol_character()\u001b[39m,\n",
      "  loser_seed = \u001b[31mcol_character()\u001b[39m,\n",
      "  loser_entry = \u001b[31mcol_character()\u001b[39m,\n",
      "  loser_name = \u001b[31mcol_character()\u001b[39m,\n",
      "  loser_hand = \u001b[31mcol_character()\u001b[39m,\n",
      "  loser_ioc = \u001b[31mcol_character()\u001b[39m,\n",
      "  score = \u001b[31mcol_character()\u001b[39m,\n",
      "  round = \u001b[31mcol_character()\u001b[39m\n",
      ")\n",
      "\n",
      "See spec(...) for full column specifications.\n",
      "\n"
     ]
    },
    {
     "data": {
      "text/html": [
       "<table>\n",
       "<caption>A spec_tbl_df: 6866 × 50</caption>\n",
       "<thead>\n",
       "\t<tr><th scope=col>X1</th><th scope=col>tourney_id</th><th scope=col>tourney_name</th><th scope=col>surface</th><th scope=col>draw_size</th><th scope=col>tourney_level</th><th scope=col>tourney_date</th><th scope=col>match_num</th><th scope=col>winner_id</th><th scope=col>winner_seed</th><th scope=col>⋯</th><th scope=col>l_1stIn</th><th scope=col>l_1stWon</th><th scope=col>l_2ndWon</th><th scope=col>l_SvGms</th><th scope=col>l_bpSaved</th><th scope=col>l_bpFaced</th><th scope=col>winner_rank</th><th scope=col>winner_rank_points</th><th scope=col>loser_rank</th><th scope=col>loser_rank_points</th></tr>\n",
       "\t<tr><th scope=col>&lt;dbl&gt;</th><th scope=col>&lt;chr&gt;</th><th scope=col>&lt;chr&gt;</th><th scope=col>&lt;chr&gt;</th><th scope=col>&lt;dbl&gt;</th><th scope=col>&lt;chr&gt;</th><th scope=col>&lt;dbl&gt;</th><th scope=col>&lt;dbl&gt;</th><th scope=col>&lt;dbl&gt;</th><th scope=col>&lt;chr&gt;</th><th scope=col>⋯</th><th scope=col>&lt;dbl&gt;</th><th scope=col>&lt;dbl&gt;</th><th scope=col>&lt;dbl&gt;</th><th scope=col>&lt;dbl&gt;</th><th scope=col>&lt;dbl&gt;</th><th scope=col>&lt;dbl&gt;</th><th scope=col>&lt;dbl&gt;</th><th scope=col>&lt;dbl&gt;</th><th scope=col>&lt;dbl&gt;</th><th scope=col>&lt;dbl&gt;</th></tr>\n",
       "</thead>\n",
       "<tbody>\n",
       "\t<tr><td>0</td><td>2019-M020</td><td>Brisbane</td><td>Hard</td><td>32</td><td>A</td><td>20181231</td><td>300</td><td>105453</td><td>2</td><td>⋯</td><td>54</td><td>34</td><td>20</td><td>14</td><td>10</td><td>15</td><td> 9</td><td>3590</td><td> 16</td><td>1977</td></tr>\n",
       "\t<tr><td>1</td><td>2019-M020</td><td>Brisbane</td><td>Hard</td><td>32</td><td>A</td><td>20181231</td><td>299</td><td>106421</td><td>4</td><td>⋯</td><td>52</td><td>36</td><td> 7</td><td>10</td><td>10</td><td>13</td><td>16</td><td>1977</td><td>239</td><td> 200</td></tr>\n",
       "\t<tr><td>2</td><td>2019-M020</td><td>Brisbane</td><td>Hard</td><td>32</td><td>A</td><td>20181231</td><td>298</td><td>105453</td><td>2</td><td>⋯</td><td>27</td><td>15</td><td> 6</td><td> 8</td><td> 1</td><td> 5</td><td> 9</td><td>3590</td><td> 40</td><td>1050</td></tr>\n",
       "\t<tr><td>⋮</td><td>⋮</td><td>⋮</td><td>⋮</td><td>⋮</td><td>⋮</td><td>⋮</td><td>⋮</td><td>⋮</td><td>⋮</td><td>⋱</td><td>⋮</td><td>⋮</td><td>⋮</td><td>⋮</td><td>⋮</td><td>⋮</td><td>⋮</td><td>⋮</td><td>⋮</td><td>⋮</td></tr>\n",
       "\t<tr><td>2883</td><td>2017-M-DC-2017-WG-M-BEL-FRA-01</td><td>Davis Cup WG F: BEL vs FRA</td><td>Hard</td><td>4</td><td>D</td><td>20171124</td><td>2</td><td>104542</td><td>NA</td><td>⋯</td><td>54</td><td>30</td><td>12</td><td>12</td><td>5</td><td>11</td><td>15</td><td>2320</td><td>76</td><td> 667</td></tr>\n",
       "\t<tr><td>2884</td><td>2017-M-DC-2017-WG-M-BEL-FRA-01</td><td>Davis Cup WG F: BEL vs FRA</td><td>Hard</td><td>4</td><td>D</td><td>20171124</td><td>4</td><td>105676</td><td>NA</td><td>⋯</td><td>54</td><td>44</td><td>13</td><td>14</td><td>7</td><td>10</td><td> 7</td><td>3775</td><td>15</td><td>2320</td></tr>\n",
       "\t<tr><td>2885</td><td>2017-M-DC-2017-WG-M-BEL-FRA-01</td><td>Davis Cup WG F: BEL vs FRA</td><td>Hard</td><td>4</td><td>D</td><td>20171124</td><td>5</td><td>106298</td><td>NA</td><td>⋯</td><td>53</td><td>29</td><td>11</td><td>11</td><td>4</td><td>11</td><td>18</td><td>2235</td><td>76</td><td> 667</td></tr>\n",
       "</tbody>\n",
       "</table>\n"
      ],
      "text/latex": [
       "A spec\\_tbl\\_df: 6866 × 50\n",
       "\\begin{tabular}{lllllllllllllllllllll}\n",
       " X1 & tourney\\_id & tourney\\_name & surface & draw\\_size & tourney\\_level & tourney\\_date & match\\_num & winner\\_id & winner\\_seed & ⋯ & l\\_1stIn & l\\_1stWon & l\\_2ndWon & l\\_SvGms & l\\_bpSaved & l\\_bpFaced & winner\\_rank & winner\\_rank\\_points & loser\\_rank & loser\\_rank\\_points\\\\\n",
       " <dbl> & <chr> & <chr> & <chr> & <dbl> & <chr> & <dbl> & <dbl> & <dbl> & <chr> & ⋯ & <dbl> & <dbl> & <dbl> & <dbl> & <dbl> & <dbl> & <dbl> & <dbl> & <dbl> & <dbl>\\\\\n",
       "\\hline\n",
       "\t 0 & 2019-M020 & Brisbane & Hard & 32 & A & 20181231 & 300 & 105453 & 2 & ⋯ & 54 & 34 & 20 & 14 & 10 & 15 &  9 & 3590 &  16 & 1977\\\\\n",
       "\t 1 & 2019-M020 & Brisbane & Hard & 32 & A & 20181231 & 299 & 106421 & 4 & ⋯ & 52 & 36 &  7 & 10 & 10 & 13 & 16 & 1977 & 239 &  200\\\\\n",
       "\t 2 & 2019-M020 & Brisbane & Hard & 32 & A & 20181231 & 298 & 105453 & 2 & ⋯ & 27 & 15 &  6 &  8 &  1 &  5 &  9 & 3590 &  40 & 1050\\\\\n",
       "\t ⋮ & ⋮ & ⋮ & ⋮ & ⋮ & ⋮ & ⋮ & ⋮ & ⋮ & ⋮ & ⋱ & ⋮ & ⋮ & ⋮ & ⋮ & ⋮ & ⋮ & ⋮ & ⋮ & ⋮ & ⋮\\\\\n",
       "\t 2883 & 2017-M-DC-2017-WG-M-BEL-FRA-01 & Davis Cup WG F: BEL vs FRA & Hard & 4 & D & 20171124 & 2 & 104542 & NA & ⋯ & 54 & 30 & 12 & 12 & 5 & 11 & 15 & 2320 & 76 &  667\\\\\n",
       "\t 2884 & 2017-M-DC-2017-WG-M-BEL-FRA-01 & Davis Cup WG F: BEL vs FRA & Hard & 4 & D & 20171124 & 4 & 105676 & NA & ⋯ & 54 & 44 & 13 & 14 & 7 & 10 &  7 & 3775 & 15 & 2320\\\\\n",
       "\t 2885 & 2017-M-DC-2017-WG-M-BEL-FRA-01 & Davis Cup WG F: BEL vs FRA & Hard & 4 & D & 20171124 & 5 & 106298 & NA & ⋯ & 53 & 29 & 11 & 11 & 4 & 11 & 18 & 2235 & 76 &  667\\\\\n",
       "\\end{tabular}\n"
      ],
      "text/markdown": [
       "\n",
       "A spec_tbl_df: 6866 × 50\n",
       "\n",
       "| X1 &lt;dbl&gt; | tourney_id &lt;chr&gt; | tourney_name &lt;chr&gt; | surface &lt;chr&gt; | draw_size &lt;dbl&gt; | tourney_level &lt;chr&gt; | tourney_date &lt;dbl&gt; | match_num &lt;dbl&gt; | winner_id &lt;dbl&gt; | winner_seed &lt;chr&gt; | ⋯ ⋯ | l_1stIn &lt;dbl&gt; | l_1stWon &lt;dbl&gt; | l_2ndWon &lt;dbl&gt; | l_SvGms &lt;dbl&gt; | l_bpSaved &lt;dbl&gt; | l_bpFaced &lt;dbl&gt; | winner_rank &lt;dbl&gt; | winner_rank_points &lt;dbl&gt; | loser_rank &lt;dbl&gt; | loser_rank_points &lt;dbl&gt; |\n",
       "|---|---|---|---|---|---|---|---|---|---|---|---|---|---|---|---|---|---|---|---|---|\n",
       "| 0 | 2019-M020 | Brisbane | Hard | 32 | A | 20181231 | 300 | 105453 | 2 | ⋯ | 54 | 34 | 20 | 14 | 10 | 15 |  9 | 3590 |  16 | 1977 |\n",
       "| 1 | 2019-M020 | Brisbane | Hard | 32 | A | 20181231 | 299 | 106421 | 4 | ⋯ | 52 | 36 |  7 | 10 | 10 | 13 | 16 | 1977 | 239 |  200 |\n",
       "| 2 | 2019-M020 | Brisbane | Hard | 32 | A | 20181231 | 298 | 105453 | 2 | ⋯ | 27 | 15 |  6 |  8 |  1 |  5 |  9 | 3590 |  40 | 1050 |\n",
       "| ⋮ | ⋮ | ⋮ | ⋮ | ⋮ | ⋮ | ⋮ | ⋮ | ⋮ | ⋮ | ⋱ | ⋮ | ⋮ | ⋮ | ⋮ | ⋮ | ⋮ | ⋮ | ⋮ | ⋮ | ⋮ |\n",
       "| 2883 | 2017-M-DC-2017-WG-M-BEL-FRA-01 | Davis Cup WG F: BEL vs FRA | Hard | 4 | D | 20171124 | 2 | 104542 | NA | ⋯ | 54 | 30 | 12 | 12 | 5 | 11 | 15 | 2320 | 76 |  667 |\n",
       "| 2884 | 2017-M-DC-2017-WG-M-BEL-FRA-01 | Davis Cup WG F: BEL vs FRA | Hard | 4 | D | 20171124 | 4 | 105676 | NA | ⋯ | 54 | 44 | 13 | 14 | 7 | 10 |  7 | 3775 | 15 | 2320 |\n",
       "| 2885 | 2017-M-DC-2017-WG-M-BEL-FRA-01 | Davis Cup WG F: BEL vs FRA | Hard | 4 | D | 20171124 | 5 | 106298 | NA | ⋯ | 53 | 29 | 11 | 11 | 4 | 11 | 18 | 2235 | 76 |  667 |\n",
       "\n"
      ],
      "text/plain": [
       "     X1   tourney_id                     tourney_name               surface\n",
       "1    0    2019-M020                      Brisbane                   Hard   \n",
       "2    1    2019-M020                      Brisbane                   Hard   \n",
       "3    2    2019-M020                      Brisbane                   Hard   \n",
       "⋮    ⋮    ⋮                              ⋮                          ⋮      \n",
       "6864 2883 2017-M-DC-2017-WG-M-BEL-FRA-01 Davis Cup WG F: BEL vs FRA Hard   \n",
       "6865 2884 2017-M-DC-2017-WG-M-BEL-FRA-01 Davis Cup WG F: BEL vs FRA Hard   \n",
       "6866 2885 2017-M-DC-2017-WG-M-BEL-FRA-01 Davis Cup WG F: BEL vs FRA Hard   \n",
       "     draw_size tourney_level tourney_date match_num winner_id winner_seed ⋯\n",
       "1    32        A             20181231     300       105453    2           ⋯\n",
       "2    32        A             20181231     299       106421    4           ⋯\n",
       "3    32        A             20181231     298       105453    2           ⋯\n",
       "⋮    ⋮         ⋮             ⋮            ⋮         ⋮         ⋮           ⋱\n",
       "6864 4         D             20171124     2         104542    NA          ⋯\n",
       "6865 4         D             20171124     4         105676    NA          ⋯\n",
       "6866 4         D             20171124     5         106298    NA          ⋯\n",
       "     l_1stIn l_1stWon l_2ndWon l_SvGms l_bpSaved l_bpFaced winner_rank\n",
       "1    54      34       20       14      10        15         9         \n",
       "2    52      36        7       10      10        13        16         \n",
       "3    27      15        6        8       1         5         9         \n",
       "⋮    ⋮       ⋮        ⋮        ⋮       ⋮         ⋮         ⋮          \n",
       "6864 54      30       12       12      5         11        15         \n",
       "6865 54      44       13       14      7         10         7         \n",
       "6866 53      29       11       11      4         11        18         \n",
       "     winner_rank_points loser_rank loser_rank_points\n",
       "1    3590                16        1977             \n",
       "2    1977               239         200             \n",
       "3    3590                40        1050             \n",
       "⋮    ⋮                  ⋮          ⋮                \n",
       "6864 2320               76          667             \n",
       "6865 3775               15         2320             \n",
       "6866 2235               76          667             "
      ]
     },
     "metadata": {},
     "output_type": "display_data"
    }
   ],
   "source": [
    "#Loading the dataset \n",
    "\n",
    "library(tidyverse)\n",
    "library(tidyr)\n",
    "library(tidymodels)\n",
    "library(dplyr)\n",
    "options(repr.matrix.max.rows = 6)\n",
    "\n",
    "url <- \"https://drive.google.com/uc?export=download&id=1fOQ8sy_qMkQiQEAO6uFdRX4tLI8EpSTn\"\n",
    "\n",
    "ATP_data <- read_csv(url)\n",
    "ATP_data"
   ]
  },
  {
   "cell_type": "markdown",
   "metadata": {},
   "source": [
    "There are several columns which we can reasonably anticipate will not effect the results or are not in the scope of our question, and therefore should be removed:\n",
    "\n",
    "all columns from draw_size to winner_id\n",
    "winner_entry, winner_name and winner_ioc, as with the same categories for the loser\n",
    "score (we are only concerned with the final outcome)\n",
    "best_of\n",
    "all columns relating to match information"
   ]
  },
  {
   "cell_type": "code",
   "execution_count": 2,
   "metadata": {},
   "outputs": [
    {
     "data": {
      "text/html": [
       "<table>\n",
       "<caption>A tibble: 6866 × 12</caption>\n",
       "<thead>\n",
       "\t<tr><th scope=col>tourney_name</th><th scope=col>surface</th><th scope=col>winner_hand</th><th scope=col>winner_ht</th><th scope=col>winner_age</th><th scope=col>loser_hand</th><th scope=col>loser_ht</th><th scope=col>loser_age</th><th scope=col>winner_rank</th><th scope=col>winner_rank_points</th><th scope=col>loser_rank</th><th scope=col>loser_rank_points</th></tr>\n",
       "\t<tr><th scope=col>&lt;chr&gt;</th><th scope=col>&lt;chr&gt;</th><th scope=col>&lt;chr&gt;</th><th scope=col>&lt;dbl&gt;</th><th scope=col>&lt;dbl&gt;</th><th scope=col>&lt;chr&gt;</th><th scope=col>&lt;dbl&gt;</th><th scope=col>&lt;dbl&gt;</th><th scope=col>&lt;dbl&gt;</th><th scope=col>&lt;dbl&gt;</th><th scope=col>&lt;dbl&gt;</th><th scope=col>&lt;dbl&gt;</th></tr>\n",
       "</thead>\n",
       "<tbody>\n",
       "\t<tr><td>Brisbane</td><td>Hard</td><td>R</td><td>178</td><td>29.00479</td><td>R</td><td> NA</td><td>22.88569</td><td> 9</td><td>3590</td><td> 16</td><td>1977</td></tr>\n",
       "\t<tr><td>Brisbane</td><td>Hard</td><td>R</td><td> NA</td><td>22.88569</td><td>R</td><td>188</td><td>33.70568</td><td>16</td><td>1977</td><td>239</td><td> 200</td></tr>\n",
       "\t<tr><td>Brisbane</td><td>Hard</td><td>R</td><td>178</td><td>29.00479</td><td>R</td><td>188</td><td>31.88227</td><td> 9</td><td>3590</td><td> 40</td><td>1050</td></tr>\n",
       "\t<tr><td>⋮</td><td>⋮</td><td>⋮</td><td>⋮</td><td>⋮</td><td>⋮</td><td>⋮</td><td>⋮</td><td>⋮</td><td>⋮</td><td>⋮</td><td>⋮</td></tr>\n",
       "\t<tr><td>Davis Cup WG F: BEL vs FRA</td><td>Hard</td><td>R</td><td>188</td><td>32.59411</td><td>R</td><td>178</td><td>33.68925</td><td>15</td><td>2320</td><td>76</td><td> 667</td></tr>\n",
       "\t<tr><td>Davis Cup WG F: BEL vs FRA</td><td>Hard</td><td>R</td><td>163</td><td>26.95414</td><td>R</td><td>188</td><td>32.59411</td><td> 7</td><td>3775</td><td>15</td><td>2320</td></tr>\n",
       "\t<tr><td>Davis Cup WG F: BEL vs FRA</td><td>Hard</td><td>R</td><td>185</td><td>23.73990</td><td>R</td><td>178</td><td>33.68925</td><td>18</td><td>2235</td><td>76</td><td> 667</td></tr>\n",
       "</tbody>\n",
       "</table>\n"
      ],
      "text/latex": [
       "A tibble: 6866 × 12\n",
       "\\begin{tabular}{llllllllllll}\n",
       " tourney\\_name & surface & winner\\_hand & winner\\_ht & winner\\_age & loser\\_hand & loser\\_ht & loser\\_age & winner\\_rank & winner\\_rank\\_points & loser\\_rank & loser\\_rank\\_points\\\\\n",
       " <chr> & <chr> & <chr> & <dbl> & <dbl> & <chr> & <dbl> & <dbl> & <dbl> & <dbl> & <dbl> & <dbl>\\\\\n",
       "\\hline\n",
       "\t Brisbane & Hard & R & 178 & 29.00479 & R &  NA & 22.88569 &  9 & 3590 &  16 & 1977\\\\\n",
       "\t Brisbane & Hard & R &  NA & 22.88569 & R & 188 & 33.70568 & 16 & 1977 & 239 &  200\\\\\n",
       "\t Brisbane & Hard & R & 178 & 29.00479 & R & 188 & 31.88227 &  9 & 3590 &  40 & 1050\\\\\n",
       "\t ⋮ & ⋮ & ⋮ & ⋮ & ⋮ & ⋮ & ⋮ & ⋮ & ⋮ & ⋮ & ⋮ & ⋮\\\\\n",
       "\t Davis Cup WG F: BEL vs FRA & Hard & R & 188 & 32.59411 & R & 178 & 33.68925 & 15 & 2320 & 76 &  667\\\\\n",
       "\t Davis Cup WG F: BEL vs FRA & Hard & R & 163 & 26.95414 & R & 188 & 32.59411 &  7 & 3775 & 15 & 2320\\\\\n",
       "\t Davis Cup WG F: BEL vs FRA & Hard & R & 185 & 23.73990 & R & 178 & 33.68925 & 18 & 2235 & 76 &  667\\\\\n",
       "\\end{tabular}\n"
      ],
      "text/markdown": [
       "\n",
       "A tibble: 6866 × 12\n",
       "\n",
       "| tourney_name &lt;chr&gt; | surface &lt;chr&gt; | winner_hand &lt;chr&gt; | winner_ht &lt;dbl&gt; | winner_age &lt;dbl&gt; | loser_hand &lt;chr&gt; | loser_ht &lt;dbl&gt; | loser_age &lt;dbl&gt; | winner_rank &lt;dbl&gt; | winner_rank_points &lt;dbl&gt; | loser_rank &lt;dbl&gt; | loser_rank_points &lt;dbl&gt; |\n",
       "|---|---|---|---|---|---|---|---|---|---|---|---|\n",
       "| Brisbane | Hard | R | 178 | 29.00479 | R |  NA | 22.88569 |  9 | 3590 |  16 | 1977 |\n",
       "| Brisbane | Hard | R |  NA | 22.88569 | R | 188 | 33.70568 | 16 | 1977 | 239 |  200 |\n",
       "| Brisbane | Hard | R | 178 | 29.00479 | R | 188 | 31.88227 |  9 | 3590 |  40 | 1050 |\n",
       "| ⋮ | ⋮ | ⋮ | ⋮ | ⋮ | ⋮ | ⋮ | ⋮ | ⋮ | ⋮ | ⋮ | ⋮ |\n",
       "| Davis Cup WG F: BEL vs FRA | Hard | R | 188 | 32.59411 | R | 178 | 33.68925 | 15 | 2320 | 76 |  667 |\n",
       "| Davis Cup WG F: BEL vs FRA | Hard | R | 163 | 26.95414 | R | 188 | 32.59411 |  7 | 3775 | 15 | 2320 |\n",
       "| Davis Cup WG F: BEL vs FRA | Hard | R | 185 | 23.73990 | R | 178 | 33.68925 | 18 | 2235 | 76 |  667 |\n",
       "\n"
      ],
      "text/plain": [
       "     tourney_name               surface winner_hand winner_ht winner_age\n",
       "1    Brisbane                   Hard    R           178       29.00479  \n",
       "2    Brisbane                   Hard    R            NA       22.88569  \n",
       "3    Brisbane                   Hard    R           178       29.00479  \n",
       "⋮    ⋮                          ⋮       ⋮           ⋮         ⋮         \n",
       "6864 Davis Cup WG F: BEL vs FRA Hard    R           188       32.59411  \n",
       "6865 Davis Cup WG F: BEL vs FRA Hard    R           163       26.95414  \n",
       "6866 Davis Cup WG F: BEL vs FRA Hard    R           185       23.73990  \n",
       "     loser_hand loser_ht loser_age winner_rank winner_rank_points loser_rank\n",
       "1    R           NA      22.88569   9          3590                16       \n",
       "2    R          188      33.70568  16          1977               239       \n",
       "3    R          188      31.88227   9          3590                40       \n",
       "⋮    ⋮          ⋮        ⋮         ⋮           ⋮                  ⋮         \n",
       "6864 R          178      33.68925  15          2320               76        \n",
       "6865 R          188      32.59411   7          3775               15        \n",
       "6866 R          178      33.68925  18          2235               76        \n",
       "     loser_rank_points\n",
       "1    1977             \n",
       "2     200             \n",
       "3    1050             \n",
       "⋮    ⋮                \n",
       "6864  667             \n",
       "6865 2320             \n",
       "6866  667             "
      ]
     },
     "metadata": {},
     "output_type": "display_data"
    }
   ],
   "source": [
    "#select the columns necessary from the dataset\n",
    "\n",
    "ATP_data_trimmed <- select(ATP_data , tourney_name, surface, winner_hand, winner_ht, winner_age, loser_hand, loser_ht, loser_age, winner_rank, winner_rank_points, loser_rank, loser_rank_points)\n",
    "ATP_data_trimmed"
   ]
  },
  {
   "cell_type": "markdown",
   "metadata": {},
   "source": [
    "After removing those extra columns, this dataset is relatively clean, in that it meets these criteria:\n",
    "\n",
    "Each column is a single variable\n",
    "Each value is a single cell\n",
    "Each row is a unqiue observation\n",
    "However, there are some observations that contain 'NA' values, which make the data untidy, therefore, all rows with an NA value should be removed"
   ]
  },
  {
   "cell_type": "code",
   "execution_count": 3,
   "metadata": {},
   "outputs": [
    {
     "data": {
      "text/html": [
       "<table>\n",
       "<caption>A tibble: 2908 × 12</caption>\n",
       "<thead>\n",
       "\t<tr><th scope=col>tourney_name</th><th scope=col>surface</th><th scope=col>winner_hand</th><th scope=col>winner_ht</th><th scope=col>winner_age</th><th scope=col>loser_hand</th><th scope=col>loser_ht</th><th scope=col>loser_age</th><th scope=col>winner_rank</th><th scope=col>winner_rank_points</th><th scope=col>loser_rank</th><th scope=col>loser_rank_points</th></tr>\n",
       "\t<tr><th scope=col>&lt;chr&gt;</th><th scope=col>&lt;chr&gt;</th><th scope=col>&lt;chr&gt;</th><th scope=col>&lt;dbl&gt;</th><th scope=col>&lt;dbl&gt;</th><th scope=col>&lt;chr&gt;</th><th scope=col>&lt;dbl&gt;</th><th scope=col>&lt;dbl&gt;</th><th scope=col>&lt;dbl&gt;</th><th scope=col>&lt;dbl&gt;</th><th scope=col>&lt;dbl&gt;</th><th scope=col>&lt;dbl&gt;</th></tr>\n",
       "</thead>\n",
       "<tbody>\n",
       "\t<tr><td>Brisbane</td><td>Hard</td><td>R</td><td>178</td><td>29.00479</td><td>R</td><td>188</td><td>31.88227</td><td> 9</td><td>3590</td><td>40</td><td>1050</td></tr>\n",
       "\t<tr><td>Brisbane</td><td>Hard</td><td>R</td><td>178</td><td>29.00479</td><td>R</td><td>188</td><td>27.62765</td><td> 9</td><td>3590</td><td>19</td><td>1835</td></tr>\n",
       "\t<tr><td>Brisbane</td><td>Hard</td><td>R</td><td>188</td><td>31.88227</td><td>R</td><td>193</td><td>23.67967</td><td>40</td><td>1050</td><td>35</td><td>1125</td></tr>\n",
       "\t<tr><td>⋮</td><td>⋮</td><td>⋮</td><td>⋮</td><td>⋮</td><td>⋮</td><td>⋮</td><td>⋮</td><td>⋮</td><td>⋮</td><td>⋮</td><td>⋮</td></tr>\n",
       "\t<tr><td>Davis Cup WG F: BEL vs FRA</td><td>Hard</td><td>R</td><td>188</td><td>32.59411</td><td>R</td><td>178</td><td>33.68925</td><td>15</td><td>2320</td><td>76</td><td> 667</td></tr>\n",
       "\t<tr><td>Davis Cup WG F: BEL vs FRA</td><td>Hard</td><td>R</td><td>163</td><td>26.95414</td><td>R</td><td>188</td><td>32.59411</td><td> 7</td><td>3775</td><td>15</td><td>2320</td></tr>\n",
       "\t<tr><td>Davis Cup WG F: BEL vs FRA</td><td>Hard</td><td>R</td><td>185</td><td>23.73990</td><td>R</td><td>178</td><td>33.68925</td><td>18</td><td>2235</td><td>76</td><td> 667</td></tr>\n",
       "</tbody>\n",
       "</table>\n"
      ],
      "text/latex": [
       "A tibble: 2908 × 12\n",
       "\\begin{tabular}{llllllllllll}\n",
       " tourney\\_name & surface & winner\\_hand & winner\\_ht & winner\\_age & loser\\_hand & loser\\_ht & loser\\_age & winner\\_rank & winner\\_rank\\_points & loser\\_rank & loser\\_rank\\_points\\\\\n",
       " <chr> & <chr> & <chr> & <dbl> & <dbl> & <chr> & <dbl> & <dbl> & <dbl> & <dbl> & <dbl> & <dbl>\\\\\n",
       "\\hline\n",
       "\t Brisbane & Hard & R & 178 & 29.00479 & R & 188 & 31.88227 &  9 & 3590 & 40 & 1050\\\\\n",
       "\t Brisbane & Hard & R & 178 & 29.00479 & R & 188 & 27.62765 &  9 & 3590 & 19 & 1835\\\\\n",
       "\t Brisbane & Hard & R & 188 & 31.88227 & R & 193 & 23.67967 & 40 & 1050 & 35 & 1125\\\\\n",
       "\t ⋮ & ⋮ & ⋮ & ⋮ & ⋮ & ⋮ & ⋮ & ⋮ & ⋮ & ⋮ & ⋮ & ⋮\\\\\n",
       "\t Davis Cup WG F: BEL vs FRA & Hard & R & 188 & 32.59411 & R & 178 & 33.68925 & 15 & 2320 & 76 &  667\\\\\n",
       "\t Davis Cup WG F: BEL vs FRA & Hard & R & 163 & 26.95414 & R & 188 & 32.59411 &  7 & 3775 & 15 & 2320\\\\\n",
       "\t Davis Cup WG F: BEL vs FRA & Hard & R & 185 & 23.73990 & R & 178 & 33.68925 & 18 & 2235 & 76 &  667\\\\\n",
       "\\end{tabular}\n"
      ],
      "text/markdown": [
       "\n",
       "A tibble: 2908 × 12\n",
       "\n",
       "| tourney_name &lt;chr&gt; | surface &lt;chr&gt; | winner_hand &lt;chr&gt; | winner_ht &lt;dbl&gt; | winner_age &lt;dbl&gt; | loser_hand &lt;chr&gt; | loser_ht &lt;dbl&gt; | loser_age &lt;dbl&gt; | winner_rank &lt;dbl&gt; | winner_rank_points &lt;dbl&gt; | loser_rank &lt;dbl&gt; | loser_rank_points &lt;dbl&gt; |\n",
       "|---|---|---|---|---|---|---|---|---|---|---|---|\n",
       "| Brisbane | Hard | R | 178 | 29.00479 | R | 188 | 31.88227 |  9 | 3590 | 40 | 1050 |\n",
       "| Brisbane | Hard | R | 178 | 29.00479 | R | 188 | 27.62765 |  9 | 3590 | 19 | 1835 |\n",
       "| Brisbane | Hard | R | 188 | 31.88227 | R | 193 | 23.67967 | 40 | 1050 | 35 | 1125 |\n",
       "| ⋮ | ⋮ | ⋮ | ⋮ | ⋮ | ⋮ | ⋮ | ⋮ | ⋮ | ⋮ | ⋮ | ⋮ |\n",
       "| Davis Cup WG F: BEL vs FRA | Hard | R | 188 | 32.59411 | R | 178 | 33.68925 | 15 | 2320 | 76 |  667 |\n",
       "| Davis Cup WG F: BEL vs FRA | Hard | R | 163 | 26.95414 | R | 188 | 32.59411 |  7 | 3775 | 15 | 2320 |\n",
       "| Davis Cup WG F: BEL vs FRA | Hard | R | 185 | 23.73990 | R | 178 | 33.68925 | 18 | 2235 | 76 |  667 |\n",
       "\n"
      ],
      "text/plain": [
       "     tourney_name               surface winner_hand winner_ht winner_age\n",
       "1    Brisbane                   Hard    R           178       29.00479  \n",
       "2    Brisbane                   Hard    R           178       29.00479  \n",
       "3    Brisbane                   Hard    R           188       31.88227  \n",
       "⋮    ⋮                          ⋮       ⋮           ⋮         ⋮         \n",
       "2906 Davis Cup WG F: BEL vs FRA Hard    R           188       32.59411  \n",
       "2907 Davis Cup WG F: BEL vs FRA Hard    R           163       26.95414  \n",
       "2908 Davis Cup WG F: BEL vs FRA Hard    R           185       23.73990  \n",
       "     loser_hand loser_ht loser_age winner_rank winner_rank_points loser_rank\n",
       "1    R          188      31.88227   9          3590               40        \n",
       "2    R          188      27.62765   9          3590               19        \n",
       "3    R          193      23.67967  40          1050               35        \n",
       "⋮    ⋮          ⋮        ⋮         ⋮           ⋮                  ⋮         \n",
       "2906 R          178      33.68925  15          2320               76        \n",
       "2907 R          188      32.59411   7          3775               15        \n",
       "2908 R          178      33.68925  18          2235               76        \n",
       "     loser_rank_points\n",
       "1    1050             \n",
       "2    1835             \n",
       "3    1125             \n",
       "⋮    ⋮                \n",
       "2906  667             \n",
       "2907 2320             \n",
       "2908  667             "
      ]
     },
     "metadata": {},
     "output_type": "display_data"
    }
   ],
   "source": [
    "#drop_na function is an easy way to drop rows with NA values, but it requires the tidyr library\n",
    "\n",
    "library(tidyr)\n",
    "ATP_data_tidy <- drop_na(ATP_data_trimmed)\n",
    "ATP_data_tidy"
   ]
  },
  {
   "cell_type": "markdown",
   "metadata": {},
   "source": [
    "Now the data is tidy and ready to work with!\n",
    "\n",
    "Next, we will create some preliminary visualizations. First off, it will be helpful to see how certain player characteristics, like height and player rank, are distributed amongst winning and losing players."
   ]
  },
  {
   "cell_type": "markdown",
   "metadata": {},
   "source": [
    "We will create our training and testing sets below to get started on making a table and plot of the given dataset to get a better sense of what we are working with."
   ]
  },
  {
   "cell_type": "code",
   "execution_count": 4,
   "metadata": {},
   "outputs": [],
   "source": [
    "ATP_split<- initial_split(ATP_data_tidy, prop = 0.75, strata = winner_rank)\n",
    "ATP_training <- training(ATP_split)\n",
    "ATP_testing <- testing(ATP_split)"
   ]
  },
  {
   "cell_type": "markdown",
   "metadata": {},
   "source": [
    "We now have a training and testing set of data to work with and create basic and preliminary visualizations for to\n",
    "test and examine before we go any further."
   ]
  },
  {
   "cell_type": "code",
   "execution_count": 5,
   "metadata": {},
   "outputs": [
    {
     "name": "stderr",
     "output_type": "stream",
     "text": [
      "`summarise()` ungrouping output (override with `.groups` argument)\n",
      "\n"
     ]
    },
    {
     "data": {
      "text/html": [
       "<table>\n",
       "<caption>A tibble: 111 × 2</caption>\n",
       "<thead>\n",
       "\t<tr><th scope=col>tourney_name</th><th scope=col>Count</th></tr>\n",
       "\t<tr><th scope=col>&lt;chr&gt;</th><th scope=col>&lt;int&gt;</th></tr>\n",
       "</thead>\n",
       "<tbody>\n",
       "\t<tr><td>'s-Hertogenbosch</td><td>22</td></tr>\n",
       "\t<tr><td>Acapulco        </td><td>33</td></tr>\n",
       "\t<tr><td>Antalya         </td><td>21</td></tr>\n",
       "\t<tr><td>⋮</td><td>⋮</td></tr>\n",
       "\t<tr><td>Wimbledon    </td><td>118</td></tr>\n",
       "\t<tr><td>Winston-Salem</td><td> 16</td></tr>\n",
       "\t<tr><td>Zhuhai       </td><td>  5</td></tr>\n",
       "</tbody>\n",
       "</table>\n"
      ],
      "text/latex": [
       "A tibble: 111 × 2\n",
       "\\begin{tabular}{ll}\n",
       " tourney\\_name & Count\\\\\n",
       " <chr> & <int>\\\\\n",
       "\\hline\n",
       "\t 's-Hertogenbosch & 22\\\\\n",
       "\t Acapulco         & 33\\\\\n",
       "\t Antalya          & 21\\\\\n",
       "\t ⋮ & ⋮\\\\\n",
       "\t Wimbledon     & 118\\\\\n",
       "\t Winston-Salem &  16\\\\\n",
       "\t Zhuhai        &   5\\\\\n",
       "\\end{tabular}\n"
      ],
      "text/markdown": [
       "\n",
       "A tibble: 111 × 2\n",
       "\n",
       "| tourney_name &lt;chr&gt; | Count &lt;int&gt; |\n",
       "|---|---|\n",
       "| 's-Hertogenbosch | 22 |\n",
       "| Acapulco         | 33 |\n",
       "| Antalya          | 21 |\n",
       "| ⋮ | ⋮ |\n",
       "| Wimbledon     | 118 |\n",
       "| Winston-Salem |  16 |\n",
       "| Zhuhai        |   5 |\n",
       "\n"
      ],
      "text/plain": [
       "    tourney_name     Count\n",
       "1   's-Hertogenbosch 22   \n",
       "2   Acapulco         33   \n",
       "3   Antalya          21   \n",
       "⋮   ⋮                ⋮    \n",
       "109 Wimbledon        118  \n",
       "110 Winston-Salem     16  \n",
       "111 Zhuhai             5  "
      ]
     },
     "metadata": {},
     "output_type": "display_data"
    },
    {
     "name": "stderr",
     "output_type": "stream",
     "text": [
      "`summarise()` ungrouping output (override with `.groups` argument)\n",
      "\n"
     ]
    },
    {
     "data": {
      "text/html": [
       "<table>\n",
       "<caption>A tibble: 4 × 2</caption>\n",
       "<thead>\n",
       "\t<tr><th scope=col>surface</th><th scope=col>Count</th></tr>\n",
       "\t<tr><th scope=col>&lt;chr&gt;</th><th scope=col>&lt;int&gt;</th></tr>\n",
       "</thead>\n",
       "<tbody>\n",
       "\t<tr><td>Clay </td><td> 620</td></tr>\n",
       "\t<tr><td>Grass</td><td> 278</td></tr>\n",
       "\t<tr><td>Hard </td><td>1284</td></tr>\n",
       "\t<tr><td>None </td><td>   2</td></tr>\n",
       "</tbody>\n",
       "</table>\n"
      ],
      "text/latex": [
       "A tibble: 4 × 2\n",
       "\\begin{tabular}{ll}\n",
       " surface & Count\\\\\n",
       " <chr> & <int>\\\\\n",
       "\\hline\n",
       "\t Clay  &  620\\\\\n",
       "\t Grass &  278\\\\\n",
       "\t Hard  & 1284\\\\\n",
       "\t None  &    2\\\\\n",
       "\\end{tabular}\n"
      ],
      "text/markdown": [
       "\n",
       "A tibble: 4 × 2\n",
       "\n",
       "| surface &lt;chr&gt; | Count &lt;int&gt; |\n",
       "|---|---|\n",
       "| Clay  |  620 |\n",
       "| Grass |  278 |\n",
       "| Hard  | 1284 |\n",
       "| None  |    2 |\n",
       "\n"
      ],
      "text/plain": [
       "  surface Count\n",
       "1 Clay     620 \n",
       "2 Grass    278 \n",
       "3 Hard    1284 \n",
       "4 None       2 "
      ]
     },
     "metadata": {},
     "output_type": "display_data"
    },
    {
     "name": "stderr",
     "output_type": "stream",
     "text": [
      "`summarise()` ungrouping output (override with `.groups` argument)\n",
      "\n"
     ]
    },
    {
     "data": {
      "text/html": [
       "<table>\n",
       "<caption>A tibble: 2 × 2</caption>\n",
       "<thead>\n",
       "\t<tr><th scope=col>winner_hand</th><th scope=col>Count</th></tr>\n",
       "\t<tr><th scope=col>&lt;chr&gt;</th><th scope=col>&lt;int&gt;</th></tr>\n",
       "</thead>\n",
       "<tbody>\n",
       "\t<tr><td>L</td><td> 335</td></tr>\n",
       "\t<tr><td>R</td><td>1849</td></tr>\n",
       "</tbody>\n",
       "</table>\n"
      ],
      "text/latex": [
       "A tibble: 2 × 2\n",
       "\\begin{tabular}{ll}\n",
       " winner\\_hand & Count\\\\\n",
       " <chr> & <int>\\\\\n",
       "\\hline\n",
       "\t L &  335\\\\\n",
       "\t R & 1849\\\\\n",
       "\\end{tabular}\n"
      ],
      "text/markdown": [
       "\n",
       "A tibble: 2 × 2\n",
       "\n",
       "| winner_hand &lt;chr&gt; | Count &lt;int&gt; |\n",
       "|---|---|\n",
       "| L |  335 |\n",
       "| R | 1849 |\n",
       "\n"
      ],
      "text/plain": [
       "  winner_hand Count\n",
       "1 L            335 \n",
       "2 R           1849 "
      ]
     },
     "metadata": {},
     "output_type": "display_data"
    },
    {
     "name": "stderr",
     "output_type": "stream",
     "text": [
      "`summarise()` ungrouping output (override with `.groups` argument)\n",
      "\n"
     ]
    },
    {
     "data": {
      "text/html": [
       "<table>\n",
       "<caption>A tibble: 18 × 2</caption>\n",
       "<thead>\n",
       "\t<tr><th scope=col>winner_ht</th><th scope=col>Count</th></tr>\n",
       "\t<tr><th scope=col>&lt;dbl&gt;</th><th scope=col>&lt;int&gt;</th></tr>\n",
       "</thead>\n",
       "<tbody>\n",
       "\t<tr><td>163</td><td>63</td></tr>\n",
       "\t<tr><td>170</td><td>37</td></tr>\n",
       "\t<tr><td>172</td><td>27</td></tr>\n",
       "\t<tr><td>⋮</td><td>⋮</td></tr>\n",
       "\t<tr><td>203</td><td>44</td></tr>\n",
       "\t<tr><td>206</td><td>41</td></tr>\n",
       "\t<tr><td>208</td><td>11</td></tr>\n",
       "</tbody>\n",
       "</table>\n"
      ],
      "text/latex": [
       "A tibble: 18 × 2\n",
       "\\begin{tabular}{ll}\n",
       " winner\\_ht & Count\\\\\n",
       " <dbl> & <int>\\\\\n",
       "\\hline\n",
       "\t 163 & 63\\\\\n",
       "\t 170 & 37\\\\\n",
       "\t 172 & 27\\\\\n",
       "\t ⋮ & ⋮\\\\\n",
       "\t 203 & 44\\\\\n",
       "\t 206 & 41\\\\\n",
       "\t 208 & 11\\\\\n",
       "\\end{tabular}\n"
      ],
      "text/markdown": [
       "\n",
       "A tibble: 18 × 2\n",
       "\n",
       "| winner_ht &lt;dbl&gt; | Count &lt;int&gt; |\n",
       "|---|---|\n",
       "| 163 | 63 |\n",
       "| 170 | 37 |\n",
       "| 172 | 27 |\n",
       "| ⋮ | ⋮ |\n",
       "| 203 | 44 |\n",
       "| 206 | 41 |\n",
       "| 208 | 11 |\n",
       "\n"
      ],
      "text/plain": [
       "   winner_ht Count\n",
       "1  163       63   \n",
       "2  170       37   \n",
       "3  172       27   \n",
       "⋮  ⋮         ⋮    \n",
       "16 203       44   \n",
       "17 206       41   \n",
       "18 208       11   "
      ]
     },
     "metadata": {},
     "output_type": "display_data"
    },
    {
     "name": "stderr",
     "output_type": "stream",
     "text": [
      "`summarise()` ungrouping output (override with `.groups` argument)\n",
      "\n"
     ]
    },
    {
     "data": {
      "text/html": [
       "<table>\n",
       "<caption>A tibble: 1311 × 2</caption>\n",
       "<thead>\n",
       "\t<tr><th scope=col>winner_age</th><th scope=col>Count</th></tr>\n",
       "\t<tr><th scope=col>&lt;dbl&gt;</th><th scope=col>&lt;int&gt;</th></tr>\n",
       "</thead>\n",
       "<tbody>\n",
       "\t<tr><td>19.74264</td><td>1</td></tr>\n",
       "\t<tr><td>19.80014</td><td>2</td></tr>\n",
       "\t<tr><td>19.91513</td><td>1</td></tr>\n",
       "\t<tr><td>⋮</td><td>⋮</td></tr>\n",
       "\t<tr><td>39.11020</td><td>1</td></tr>\n",
       "\t<tr><td>39.14853</td><td>1</td></tr>\n",
       "\t<tr><td>39.83847</td><td>1</td></tr>\n",
       "</tbody>\n",
       "</table>\n"
      ],
      "text/latex": [
       "A tibble: 1311 × 2\n",
       "\\begin{tabular}{ll}\n",
       " winner\\_age & Count\\\\\n",
       " <dbl> & <int>\\\\\n",
       "\\hline\n",
       "\t 19.74264 & 1\\\\\n",
       "\t 19.80014 & 2\\\\\n",
       "\t 19.91513 & 1\\\\\n",
       "\t ⋮ & ⋮\\\\\n",
       "\t 39.11020 & 1\\\\\n",
       "\t 39.14853 & 1\\\\\n",
       "\t 39.83847 & 1\\\\\n",
       "\\end{tabular}\n"
      ],
      "text/markdown": [
       "\n",
       "A tibble: 1311 × 2\n",
       "\n",
       "| winner_age &lt;dbl&gt; | Count &lt;int&gt; |\n",
       "|---|---|\n",
       "| 19.74264 | 1 |\n",
       "| 19.80014 | 2 |\n",
       "| 19.91513 | 1 |\n",
       "| ⋮ | ⋮ |\n",
       "| 39.11020 | 1 |\n",
       "| 39.14853 | 1 |\n",
       "| 39.83847 | 1 |\n",
       "\n"
      ],
      "text/plain": [
       "     winner_age Count\n",
       "1    19.74264   1    \n",
       "2    19.80014   2    \n",
       "3    19.91513   1    \n",
       "⋮    ⋮          ⋮    \n",
       "1309 39.11020   1    \n",
       "1310 39.14853   1    \n",
       "1311 39.83847   1    "
      ]
     },
     "metadata": {},
     "output_type": "display_data"
    },
    {
     "name": "stderr",
     "output_type": "stream",
     "text": [
      "`summarise()` ungrouping output (override with `.groups` argument)\n",
      "\n"
     ]
    },
    {
     "data": {
      "text/html": [
       "<table>\n",
       "<caption>A tibble: 2 × 2</caption>\n",
       "<thead>\n",
       "\t<tr><th scope=col>loser_hand</th><th scope=col>Count</th></tr>\n",
       "\t<tr><th scope=col>&lt;chr&gt;</th><th scope=col>&lt;int&gt;</th></tr>\n",
       "</thead>\n",
       "<tbody>\n",
       "\t<tr><td>L</td><td> 334</td></tr>\n",
       "\t<tr><td>R</td><td>1850</td></tr>\n",
       "</tbody>\n",
       "</table>\n"
      ],
      "text/latex": [
       "A tibble: 2 × 2\n",
       "\\begin{tabular}{ll}\n",
       " loser\\_hand & Count\\\\\n",
       " <chr> & <int>\\\\\n",
       "\\hline\n",
       "\t L &  334\\\\\n",
       "\t R & 1850\\\\\n",
       "\\end{tabular}\n"
      ],
      "text/markdown": [
       "\n",
       "A tibble: 2 × 2\n",
       "\n",
       "| loser_hand &lt;chr&gt; | Count &lt;int&gt; |\n",
       "|---|---|\n",
       "| L |  334 |\n",
       "| R | 1850 |\n",
       "\n"
      ],
      "text/plain": [
       "  loser_hand Count\n",
       "1 L           334 \n",
       "2 R          1850 "
      ]
     },
     "metadata": {},
     "output_type": "display_data"
    },
    {
     "name": "stderr",
     "output_type": "stream",
     "text": [
      "`summarise()` ungrouping output (override with `.groups` argument)\n",
      "\n"
     ]
    },
    {
     "data": {
      "text/html": [
       "<table>\n",
       "<caption>A tibble: 18 × 2</caption>\n",
       "<thead>\n",
       "\t<tr><th scope=col>loser_ht</th><th scope=col>Count</th></tr>\n",
       "\t<tr><th scope=col>&lt;dbl&gt;</th><th scope=col>&lt;int&gt;</th></tr>\n",
       "</thead>\n",
       "<tbody>\n",
       "\t<tr><td>163</td><td>34</td></tr>\n",
       "\t<tr><td>170</td><td>46</td></tr>\n",
       "\t<tr><td>172</td><td>34</td></tr>\n",
       "\t<tr><td>⋮</td><td>⋮</td></tr>\n",
       "\t<tr><td>203</td><td>24</td></tr>\n",
       "\t<tr><td>206</td><td>34</td></tr>\n",
       "\t<tr><td>208</td><td>22</td></tr>\n",
       "</tbody>\n",
       "</table>\n"
      ],
      "text/latex": [
       "A tibble: 18 × 2\n",
       "\\begin{tabular}{ll}\n",
       " loser\\_ht & Count\\\\\n",
       " <dbl> & <int>\\\\\n",
       "\\hline\n",
       "\t 163 & 34\\\\\n",
       "\t 170 & 46\\\\\n",
       "\t 172 & 34\\\\\n",
       "\t ⋮ & ⋮\\\\\n",
       "\t 203 & 24\\\\\n",
       "\t 206 & 34\\\\\n",
       "\t 208 & 22\\\\\n",
       "\\end{tabular}\n"
      ],
      "text/markdown": [
       "\n",
       "A tibble: 18 × 2\n",
       "\n",
       "| loser_ht &lt;dbl&gt; | Count &lt;int&gt; |\n",
       "|---|---|\n",
       "| 163 | 34 |\n",
       "| 170 | 46 |\n",
       "| 172 | 34 |\n",
       "| ⋮ | ⋮ |\n",
       "| 203 | 24 |\n",
       "| 206 | 34 |\n",
       "| 208 | 22 |\n",
       "\n"
      ],
      "text/plain": [
       "   loser_ht Count\n",
       "1  163      34   \n",
       "2  170      46   \n",
       "3  172      34   \n",
       "⋮  ⋮        ⋮    \n",
       "16 203      24   \n",
       "17 206      34   \n",
       "18 208      22   "
      ]
     },
     "metadata": {},
     "output_type": "display_data"
    },
    {
     "name": "stderr",
     "output_type": "stream",
     "text": [
      "`summarise()` ungrouping output (override with `.groups` argument)\n",
      "\n"
     ]
    },
    {
     "data": {
      "text/html": [
       "<table>\n",
       "<caption>A tibble: 1774 × 2</caption>\n",
       "<thead>\n",
       "\t<tr><th scope=col>loser_age</th><th scope=col>Count</th></tr>\n",
       "\t<tr><th scope=col>&lt;dbl&gt;</th><th scope=col>&lt;int&gt;</th></tr>\n",
       "</thead>\n",
       "<tbody>\n",
       "\t<tr><td>19.74264</td><td>1</td></tr>\n",
       "\t<tr><td>19.81930</td><td>1</td></tr>\n",
       "\t<tr><td>19.83847</td><td>1</td></tr>\n",
       "\t<tr><td>⋮</td><td>⋮</td></tr>\n",
       "\t<tr><td>40.01095</td><td>1</td></tr>\n",
       "\t<tr><td>40.10678</td><td>1</td></tr>\n",
       "\t<tr><td>40.62423</td><td>1</td></tr>\n",
       "</tbody>\n",
       "</table>\n"
      ],
      "text/latex": [
       "A tibble: 1774 × 2\n",
       "\\begin{tabular}{ll}\n",
       " loser\\_age & Count\\\\\n",
       " <dbl> & <int>\\\\\n",
       "\\hline\n",
       "\t 19.74264 & 1\\\\\n",
       "\t 19.81930 & 1\\\\\n",
       "\t 19.83847 & 1\\\\\n",
       "\t ⋮ & ⋮\\\\\n",
       "\t 40.01095 & 1\\\\\n",
       "\t 40.10678 & 1\\\\\n",
       "\t 40.62423 & 1\\\\\n",
       "\\end{tabular}\n"
      ],
      "text/markdown": [
       "\n",
       "A tibble: 1774 × 2\n",
       "\n",
       "| loser_age &lt;dbl&gt; | Count &lt;int&gt; |\n",
       "|---|---|\n",
       "| 19.74264 | 1 |\n",
       "| 19.81930 | 1 |\n",
       "| 19.83847 | 1 |\n",
       "| ⋮ | ⋮ |\n",
       "| 40.01095 | 1 |\n",
       "| 40.10678 | 1 |\n",
       "| 40.62423 | 1 |\n",
       "\n"
      ],
      "text/plain": [
       "     loser_age Count\n",
       "1    19.74264  1    \n",
       "2    19.81930  1    \n",
       "3    19.83847  1    \n",
       "⋮    ⋮         ⋮    \n",
       "1772 40.01095  1    \n",
       "1773 40.10678  1    \n",
       "1774 40.62423  1    "
      ]
     },
     "metadata": {},
     "output_type": "display_data"
    },
    {
     "name": "stderr",
     "output_type": "stream",
     "text": [
      "`summarise()` ungrouping output (override with `.groups` argument)\n",
      "\n"
     ]
    },
    {
     "data": {
      "text/html": [
       "<table>\n",
       "<caption>A tibble: 190 × 2</caption>\n",
       "<thead>\n",
       "\t<tr><th scope=col>winner_rank</th><th scope=col>Count</th></tr>\n",
       "\t<tr><th scope=col>&lt;dbl&gt;</th><th scope=col>&lt;int&gt;</th></tr>\n",
       "</thead>\n",
       "<tbody>\n",
       "\t<tr><td>1</td><td>77</td></tr>\n",
       "\t<tr><td>2</td><td>70</td></tr>\n",
       "\t<tr><td>3</td><td>53</td></tr>\n",
       "\t<tr><td>⋮</td><td>⋮</td></tr>\n",
       "\t<tr><td>455</td><td>1</td></tr>\n",
       "\t<tr><td>550</td><td>1</td></tr>\n",
       "\t<tr><td>589</td><td>1</td></tr>\n",
       "</tbody>\n",
       "</table>\n"
      ],
      "text/latex": [
       "A tibble: 190 × 2\n",
       "\\begin{tabular}{ll}\n",
       " winner\\_rank & Count\\\\\n",
       " <dbl> & <int>\\\\\n",
       "\\hline\n",
       "\t 1 & 77\\\\\n",
       "\t 2 & 70\\\\\n",
       "\t 3 & 53\\\\\n",
       "\t ⋮ & ⋮\\\\\n",
       "\t 455 & 1\\\\\n",
       "\t 550 & 1\\\\\n",
       "\t 589 & 1\\\\\n",
       "\\end{tabular}\n"
      ],
      "text/markdown": [
       "\n",
       "A tibble: 190 × 2\n",
       "\n",
       "| winner_rank &lt;dbl&gt; | Count &lt;int&gt; |\n",
       "|---|---|\n",
       "| 1 | 77 |\n",
       "| 2 | 70 |\n",
       "| 3 | 53 |\n",
       "| ⋮ | ⋮ |\n",
       "| 455 | 1 |\n",
       "| 550 | 1 |\n",
       "| 589 | 1 |\n",
       "\n"
      ],
      "text/plain": [
       "    winner_rank Count\n",
       "1   1           77   \n",
       "2   2           70   \n",
       "3   3           53   \n",
       "⋮   ⋮           ⋮    \n",
       "188 455         1    \n",
       "189 550         1    \n",
       "190 589         1    "
      ]
     },
     "metadata": {},
     "output_type": "display_data"
    },
    {
     "name": "stderr",
     "output_type": "stream",
     "text": [
      "`summarise()` ungrouping output (override with `.groups` argument)\n",
      "\n"
     ]
    },
    {
     "data": {
      "text/html": [
       "<table>\n",
       "<caption>A tibble: 913 × 2</caption>\n",
       "<thead>\n",
       "\t<tr><th scope=col>winner_rank_points</th><th scope=col>Count</th></tr>\n",
       "\t<tr><th scope=col>&lt;dbl&gt;</th><th scope=col>&lt;int&gt;</th></tr>\n",
       "</thead>\n",
       "<tbody>\n",
       "\t<tr><td>17</td><td>1</td></tr>\n",
       "\t<tr><td>20</td><td>1</td></tr>\n",
       "\t<tr><td>50</td><td>1</td></tr>\n",
       "\t<tr><td>⋮</td><td>⋮</td></tr>\n",
       "\t<tr><td>12410</td><td>1</td></tr>\n",
       "\t<tr><td>12415</td><td>4</td></tr>\n",
       "\t<tr><td>12560</td><td>2</td></tr>\n",
       "</tbody>\n",
       "</table>\n"
      ],
      "text/latex": [
       "A tibble: 913 × 2\n",
       "\\begin{tabular}{ll}\n",
       " winner\\_rank\\_points & Count\\\\\n",
       " <dbl> & <int>\\\\\n",
       "\\hline\n",
       "\t 17 & 1\\\\\n",
       "\t 20 & 1\\\\\n",
       "\t 50 & 1\\\\\n",
       "\t ⋮ & ⋮\\\\\n",
       "\t 12410 & 1\\\\\n",
       "\t 12415 & 4\\\\\n",
       "\t 12560 & 2\\\\\n",
       "\\end{tabular}\n"
      ],
      "text/markdown": [
       "\n",
       "A tibble: 913 × 2\n",
       "\n",
       "| winner_rank_points &lt;dbl&gt; | Count &lt;int&gt; |\n",
       "|---|---|\n",
       "| 17 | 1 |\n",
       "| 20 | 1 |\n",
       "| 50 | 1 |\n",
       "| ⋮ | ⋮ |\n",
       "| 12410 | 1 |\n",
       "| 12415 | 4 |\n",
       "| 12560 | 2 |\n",
       "\n"
      ],
      "text/plain": [
       "    winner_rank_points Count\n",
       "1   17                 1    \n",
       "2   20                 1    \n",
       "3   50                 1    \n",
       "⋮   ⋮                  ⋮    \n",
       "911 12410              1    \n",
       "912 12415              4    \n",
       "913 12560              2    "
      ]
     },
     "metadata": {},
     "output_type": "display_data"
    },
    {
     "name": "stderr",
     "output_type": "stream",
     "text": [
      "`summarise()` ungrouping output (override with `.groups` argument)\n",
      "\n"
     ]
    },
    {
     "data": {
      "text/html": [
       "<table>\n",
       "<caption>A tibble: 239 × 2</caption>\n",
       "<thead>\n",
       "\t<tr><th scope=col>loser_rank</th><th scope=col>Count</th></tr>\n",
       "\t<tr><th scope=col>&lt;dbl&gt;</th><th scope=col>&lt;int&gt;</th></tr>\n",
       "</thead>\n",
       "<tbody>\n",
       "\t<tr><td>1</td><td>16</td></tr>\n",
       "\t<tr><td>2</td><td>16</td></tr>\n",
       "\t<tr><td>3</td><td>21</td></tr>\n",
       "\t<tr><td>⋮</td><td>⋮</td></tr>\n",
       "\t<tr><td>1072</td><td>1</td></tr>\n",
       "\t<tr><td>1085</td><td>1</td></tr>\n",
       "\t<tr><td>1821</td><td>1</td></tr>\n",
       "</tbody>\n",
       "</table>\n"
      ],
      "text/latex": [
       "A tibble: 239 × 2\n",
       "\\begin{tabular}{ll}\n",
       " loser\\_rank & Count\\\\\n",
       " <dbl> & <int>\\\\\n",
       "\\hline\n",
       "\t 1 & 16\\\\\n",
       "\t 2 & 16\\\\\n",
       "\t 3 & 21\\\\\n",
       "\t ⋮ & ⋮\\\\\n",
       "\t 1072 & 1\\\\\n",
       "\t 1085 & 1\\\\\n",
       "\t 1821 & 1\\\\\n",
       "\\end{tabular}\n"
      ],
      "text/markdown": [
       "\n",
       "A tibble: 239 × 2\n",
       "\n",
       "| loser_rank &lt;dbl&gt; | Count &lt;int&gt; |\n",
       "|---|---|\n",
       "| 1 | 16 |\n",
       "| 2 | 16 |\n",
       "| 3 | 21 |\n",
       "| ⋮ | ⋮ |\n",
       "| 1072 | 1 |\n",
       "| 1085 | 1 |\n",
       "| 1821 | 1 |\n",
       "\n"
      ],
      "text/plain": [
       "    loser_rank Count\n",
       "1   1          16   \n",
       "2   2          16   \n",
       "3   3          21   \n",
       "⋮   ⋮          ⋮    \n",
       "237 1072       1    \n",
       "238 1085       1    \n",
       "239 1821       1    "
      ]
     },
     "metadata": {},
     "output_type": "display_data"
    },
    {
     "name": "stderr",
     "output_type": "stream",
     "text": [
      "`summarise()` ungrouping output (override with `.groups` argument)\n",
      "\n"
     ]
    },
    {
     "data": {
      "text/html": [
       "<table>\n",
       "<caption>A tibble: 1036 × 2</caption>\n",
       "<thead>\n",
       "\t<tr><th scope=col>loser_rank_points</th><th scope=col>Count</th></tr>\n",
       "\t<tr><th scope=col>&lt;dbl&gt;</th><th scope=col>&lt;int&gt;</th></tr>\n",
       "</thead>\n",
       "<tbody>\n",
       "\t<tr><td> 1</td><td>1</td></tr>\n",
       "\t<tr><td> 8</td><td>2</td></tr>\n",
       "\t<tr><td>17</td><td>1</td></tr>\n",
       "\t<tr><td>⋮</td><td>⋮</td></tr>\n",
       "\t<tr><td>12355</td><td>1</td></tr>\n",
       "\t<tr><td>12410</td><td>1</td></tr>\n",
       "\t<tr><td>12560</td><td>1</td></tr>\n",
       "</tbody>\n",
       "</table>\n"
      ],
      "text/latex": [
       "A tibble: 1036 × 2\n",
       "\\begin{tabular}{ll}\n",
       " loser\\_rank\\_points & Count\\\\\n",
       " <dbl> & <int>\\\\\n",
       "\\hline\n",
       "\t  1 & 1\\\\\n",
       "\t  8 & 2\\\\\n",
       "\t 17 & 1\\\\\n",
       "\t ⋮ & ⋮\\\\\n",
       "\t 12355 & 1\\\\\n",
       "\t 12410 & 1\\\\\n",
       "\t 12560 & 1\\\\\n",
       "\\end{tabular}\n"
      ],
      "text/markdown": [
       "\n",
       "A tibble: 1036 × 2\n",
       "\n",
       "| loser_rank_points &lt;dbl&gt; | Count &lt;int&gt; |\n",
       "|---|---|\n",
       "|  1 | 1 |\n",
       "|  8 | 2 |\n",
       "| 17 | 1 |\n",
       "| ⋮ | ⋮ |\n",
       "| 12355 | 1 |\n",
       "| 12410 | 1 |\n",
       "| 12560 | 1 |\n",
       "\n"
      ],
      "text/plain": [
       "     loser_rank_points Count\n",
       "1     1                1    \n",
       "2     8                2    \n",
       "3    17                1    \n",
       "⋮    ⋮                 ⋮    \n",
       "1034 12355             1    \n",
       "1035 12410             1    \n",
       "1036 12560             1    "
      ]
     },
     "metadata": {},
     "output_type": "display_data"
    }
   ],
   "source": [
    "number_of_rows_tourney_name <- ATP_training %>%\n",
    "group_by(tourney_name) %>%\n",
    "summarise(Count = n())  \n",
    "number_of_rows_tourney_name\n",
    "\n",
    "number_of_rows_surface <- ATP_training %>%\n",
    "group_by(surface) %>%\n",
    "summarise(Count = n())  \n",
    "number_of_rows_surface\n",
    "\n",
    "\n",
    "number_of_rows_winner_hand <- ATP_training %>%\n",
    "group_by(winner_hand) %>%\n",
    "summarise(Count = n())  \n",
    "number_of_rows_winner_hand\n",
    "\n",
    "number_of_rows_winner_ht <- ATP_training %>%\n",
    "group_by(winner_ht) %>%\n",
    "summarise(Count = n())  \n",
    "number_of_rows_winner_ht\n",
    "\n",
    "number_of_rows_winner_age <- ATP_training %>%\n",
    "group_by(winner_age) %>%\n",
    "summarise(Count = n())  \n",
    "number_of_rows_winner_age\n",
    "\n",
    "number_of_rows_loser_hand <- ATP_training %>%\n",
    "group_by(loser_hand) %>%\n",
    "summarise(Count = n())  \n",
    "number_of_rows_loser_hand\n",
    "\n",
    "number_of_rows_loser_ht <- ATP_training %>%\n",
    "group_by(loser_ht) %>%\n",
    "summarise(Count = n())  \n",
    "number_of_rows_loser_ht\n",
    "\n",
    "number_of_rows_loser_age <- ATP_training %>%\n",
    "group_by(loser_age) %>%\n",
    "summarise(Count = n())  \n",
    "number_of_rows_loser_age\n",
    "\n",
    "number_of_rows_winner_rank <- ATP_training %>%\n",
    "group_by(winner_rank) %>%\n",
    "summarise(Count = n())  \n",
    "number_of_rows_winner_rank\n",
    "\n",
    "number_of_rows_winner_rank_points <- ATP_training %>%\n",
    "group_by(winner_rank_points) %>%\n",
    "summarise(Count = n())  \n",
    "number_of_rows_winner_rank_points\n",
    "\n",
    "number_of_rows_loser_rank <- ATP_training %>%\n",
    "group_by(loser_rank) %>%\n",
    "summarise(Count = n())  \n",
    "number_of_rows_loser_rank\n",
    "\n",
    "number_of_rows_loser_rank_points <- ATP_training %>%\n",
    "group_by(loser_rank_points) %>%\n",
    "summarise(Count = n())  \n",
    "number_of_rows_loser_rank_points"
   ]
  },
  {
   "cell_type": "markdown",
   "metadata": {},
   "source": [
    "Plotting our data:\n",
    "\n",
    "since our data has a loser and winner set of data, we can create a plot showing different stats of both data with side by side graph comparisons. these will be very generic and simple visualizations of predictor variables we are trying to focus on and seeing general trends and where our data points are most prevalant. "
   ]
  },
  {
   "cell_type": "code",
   "execution_count": 6,
   "metadata": {},
   "outputs": [
    {
     "data": {
      "image/png": "[encoded data removed]",
      "text/plain": [
       "plot without title"
      ]
     },
     "metadata": {
      "image/png": {
       "height": 480,
       "width": 420
      }
     },
     "output_type": "display_data"
    },
    {
     "data": {
      "image/png": "[encoded data removed]",
      "text/plain": [
       "plot without title"
      ]
     },
     "metadata": {
      "image/png": {
       "height": 480,
       "width": 420
      }
     },
     "output_type": "display_data"
    }
   ],
   "source": [
    "options(repr.plot.height = 8, repr.plot.width = 7)\n",
    "\n",
    "ATP_plot <- ggplot(ATP_training, aes(x = winner_ht, y = winner_rank)) +\n",
    "geom_point() +\n",
    "facet_wrap(~ factor(winner_hand, levels = c(\"R\",\"L\"))) +\n",
    "xlab(\"Winner Height (in cm)\") +\n",
    "ylab(\"Winner Rank\") +\n",
    "ggtitle(\"Rank Over Height Graph\") +\n",
    "theme(text = element_text(size = 20))\n",
    "ATP_plot\n",
    "\n",
    "\n",
    "ATP_plot2 <- ggplot(ATP_training, aes(x = loser_ht, y = loser_rank)) +\n",
    "geom_point() +\n",
    "facet_wrap(~ factor(loser_hand, levels = c(\"R\",\"L\"))) +\n",
    "xlab(\"Loser Height (in cm)\") +\n",
    "ylab(\"Loser Rank\") +\n",
    "ggtitle(\"Rank Over Height Graph\") +\n",
    "theme(text = element_text(size = 20))\n",
    "ATP_plot2"
   ]
  },
  {
   "cell_type": "code",
   "execution_count": 7,
   "metadata": {},
   "outputs": [
    {
     "data": {
      "image/png": "[encoded data removed]",
      "text/plain": [
       "plot without title"
      ]
     },
     "metadata": {
      "image/png": {
       "height": 480,
       "width": 420
      }
     },
     "output_type": "display_data"
    },
    {
     "data": {
      "image/png": "[encoded data removed]",
      "text/plain": [
       "plot without title"
      ]
     },
     "metadata": {
      "image/png": {
       "height": 480,
       "width": 420
      }
     },
     "output_type": "display_data"
    }
   ],
   "source": [
    "options(repr.plot.height = 8, repr.plot.width = 7)\n",
    "\n",
    "ATP_plot3 <- ggplot(ATP_training, aes(x = winner_age, y = winner_rank)) +\n",
    "geom_point(alpha = 0.3) +\n",
    "facet_wrap(~ factor(winner_hand, levels = c(\"R\",\"L\"))) +\n",
    "xlab(\"Winner Age (years)\") +\n",
    "ylab(\"Winner Rank\") +\n",
    "ggtitle(\"Rank Over Age Graph\") +\n",
    "theme(text = element_text(size = 20))\n",
    "ATP_plot3\n",
    "\n",
    "\n",
    "ATP_plot4 <- ggplot(ATP_training, aes(x = loser_age, y = loser_rank)) +\n",
    "geom_point(alpha = 0.3) +\n",
    "facet_wrap(~ factor(loser_hand, levels = c(\"R\",\"L\"))) +\n",
    "xlab(\"Loser Age (years)\") +\n",
    "ylab(\"Loser Rank\") +\n",
    "ggtitle(\"Rank Over Age Graph\") +\n",
    "theme(text = element_text(size = 20))\n",
    "ATP_plot4"
   ]
  },
  {
   "cell_type": "markdown",
   "metadata": {},
   "source": [
    "<h3> Methods </h3>\n",
    "\n",
    "Essentially, the goal of this project is to create a prediction model by which we can classify <b> the likeliness that a player may win or lose a tennis match </b>  based on past statistics.\n",
    "\n",
    "The data will initially be divided into winners and losers so as to measure the frequency of certain traits amongst winners and \n",
    "\n",
    "* Our predictive involves <b> <em> regression </em> </b> and will use <b> <em> K-nearest neighbors </em> </b> . \n",
    "* The data-set will be divided into a <b> training set </b> and a <b> testing set </b>. The training set will be used to train the model, while the testing set will be used to evaluate the accuracy of the model.\n",
    "* The number of neighbors to be used will be determined by <b> cross-validation </b>.\n",
    "* Finally the prediction accuracy will be measured.\n",
    " \n",
    "The variables used will be the <b> characteristics of the player </b> such as hand,age, height,and rank.\n",
    "<br>\n",
    "The data would be visualized by means of a <b> scatter plot </b> .\n",
    "\n",
    "<h3> Expected Outcomes and Significance </h3>\n",
    "\n",
    "Through the above steps we aim to achieve a predictive model that is capable of estimating whether a player with the given characteristics would win against another player with different characteristics. This will allow us to successfully determine within margin of error <b> the most influencial characteristics that determine a match </b> . \n",
    "\n",
    "Knowing this can greatly help in <b> recruiting new players </b>  while maximising the odds of success.\n",
    "\n",
    "This can lead to futher questions such as whether players with ideal charcteristics can be trained to have a larger likeliness of winning than other players.\n",
    "\n",
    "\n",
    "\n"
   ]
  }
 ],
 "metadata": {
  "kernelspec": {
   "display_name": "R",
   "language": "R",
   "name": "ir"
  },
  "language_info": {
   "codemirror_mode": "r",
   "file_extension": ".r",
   "mimetype": "text/x-r-source",
   "name": "R",
   "pygments_lexer": "r",
   "version": "4.0.0"
  }
 },
 "nbformat": 4,
 "nbformat_minor": 4
}
