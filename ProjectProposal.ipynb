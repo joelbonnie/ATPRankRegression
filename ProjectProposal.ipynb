{
 "cells": [
  {
   "cell_type": "markdown",
   "metadata": {},
   "source": [
    "<h1> DSCI 100 Project Proposal </h1>\n",
    "\n",
    "Introduction\n",
    "\n",
    "For this project, we will be making use of Assocation of Tennis Profesionals (ATP) results data to predict what characteristics make the 'ultimate player'. The dataset we are using has been compiled from Jeff Slackmans Github page (https://github.com/JeffSackmann/tennis_atp). The dataset contains information regarding the players, the match, and the tournament the match was played in. We aim to determine which player characteristics best predict the outcome of a tennis match. More aptly, if a player with a given set of characterisitcs appeared, how likely is it that they would win a match against another player with a different set of characterisitcs? Examples of player characteristics include age, handedness, height and ATP rank\n",
    "\n",
    "Match characteristics, though included in the dataset, cannot be used in this project, as they would \"give away\" the outcome of the match to the classifier.\n",
    "\n",
    "We are asking a regression question, as we are attempting to discern if one or more variables can be used to predict a numerical variable of interest, in this case, the optimal age, handedness, rank, height, etc. for a player, or in other words, how often does a player of x height/age/rank win?"
   ]
  },
  {
   "cell_type": "code",
   "execution_count": null,
   "metadata": {},
   "outputs": [],
   "source": [
    "#Loading the dataset \n",
    "\n",
    "library(tidyverse)\n",
    "library(tidyr)\n",
    "library(tidymodels)\n",
    "library(dplyr)\n",
    "options(repr.matrix.max.rows = 6)\n",
    "\n",
    "url <- \"https://drive.google.com/uc?export=download&id=1fOQ8sy_qMkQiQEAO6uFdRX4tLI8EpSTn\"\n",
    "\n",
    "ATP_data <- read_csv(url)\n",
    "ATP_data"
   ]
  },
  {
   "cell_type": "markdown",
   "metadata": {},
   "source": [
    "There are several columns which we can reasonably anticipate will not effect the results or are not in the scope of our question, and therefore should be removed:\n",
    "\n",
    "all columns from draw_size to winner_id\n",
    "winner_entry, winner_name and winner_ioc, as with the same categories for the loser\n",
    "score (we are only concerned with the final outcome)\n",
    "best_of\n",
    "all columns relating to match information"
   ]
  },
  {
   "cell_type": "code",
   "execution_count": null,
   "metadata": {},
   "outputs": [],
   "source": [
    "#select the columns necessary from the dataset\n",
    "\n",
    "ATP_data_trimmed <- select(ATP_data , tourney_name, surface, winner_hand, winner_ht, winner_age, loser_hand, loser_ht, loser_age, winner_rank, winner_rank_points, loser_rank, loser_rank_points)\n",
    "ATP_data_trimmed"
   ]
  },
  {
   "cell_type": "markdown",
   "metadata": {},
   "source": [
    "After removing those extra columns, this dataset is relatively clean, in that it meets these criteria:\n",
    "\n",
    "Each column is a single variable\n",
    "Each value is a single cell\n",
    "Each row is a unqiue observation\n",
    "However, there are some observations that contain 'NA' values, which make the data untidy, therefore, all rows with an NA value should be removed"
   ]
  },
  {
   "cell_type": "code",
   "execution_count": null,
   "metadata": {},
   "outputs": [],
   "source": [
    "#drop_na function is an easy way to drop rows with NA values, but it requires the tidyr library\n",
    "\n",
    "library(tidyr)\n",
    "ATP_data_tidy <- drop_na(ATP_data_trimmed)\n",
    "ATP_data_tidy"
   ]
  },
  {
   "cell_type": "markdown",
   "metadata": {},
   "source": [
    "Now the data is tidy and ready to work with!\n",
    "\n",
    "Next, we will create some preliminary visualizations. First off, it will be helpful to see how certain player characteristics, like height and player rank, are distributed amongst winning and losing players."
   ]
  },
  {
   "cell_type": "markdown",
   "metadata": {},
   "source": [
    "We will create our training and testing sets below to get started on making a table and plot of the given dataset to get a better sense of what we are working with."
   ]
  },
  {
   "cell_type": "code",
   "execution_count": null,
   "metadata": {},
   "outputs": [],
   "source": [
    "ATP_split<- initial_split(ATP_data_tidy, prop = 0.75, strata = winner_rank)\n",
    "ATP_training <- training(ATP_split)\n",
    "ATP_testing <- testing(ATP_split)"
   ]
  },
  {
   "cell_type": "markdown",
   "metadata": {},
   "source": [
    "We now have a training and testing set of data to work with and create basic and preliminary visualizations for to\n",
    "test and examine before we go any further."
   ]
  },
  {
   "cell_type": "code",
   "execution_count": null,
   "metadata": {},
   "outputs": [],
   "source": [
    "number_of_rows_tourney_name <- ATP_training %>%\n",
    "group_by(tourney_name) %>%\n",
    "summarise(Count = n())  \n",
    "number_of_rows_tourney_name\n",
    "\n",
    "number_of_rows_surface <- ATP_training %>%\n",
    "group_by(surface) %>%\n",
    "summarise(Count = n())  \n",
    "number_of_rows_surface\n",
    "\n",
    "\n",
    "number_of_rows_winner_hand <- ATP_training %>%\n",
    "group_by(winner_hand) %>%\n",
    "summarise(Count = n())  \n",
    "number_of_rows_winner_hand\n",
    "\n",
    "number_of_rows_winner_ht <- ATP_training %>%\n",
    "group_by(winner_ht) %>%\n",
    "summarise(Count = n())  \n",
    "number_of_rows_winner_ht\n",
    "\n",
    "number_of_rows_winner_age <- ATP_training %>%\n",
    "group_by(winner_age) %>%\n",
    "summarise(Count = n())  \n",
    "number_of_rows_winner_age\n",
    "\n",
    "number_of_rows_loser_hand <- ATP_training %>%\n",
    "group_by(loser_hand) %>%\n",
    "summarise(Count = n())  \n",
    "number_of_rows_loser_hand\n",
    "\n",
    "number_of_rows_loser_ht <- ATP_training %>%\n",
    "group_by(loser_ht) %>%\n",
    "summarise(Count = n())  \n",
    "number_of_rows_loser_ht\n",
    "\n",
    "number_of_rows_loser_age <- ATP_training %>%\n",
    "group_by(loser_age) %>%\n",
    "summarise(Count = n())  \n",
    "number_of_rows_loser_age\n",
    "\n",
    "number_of_rows_winner_rank <- ATP_training %>%\n",
    "group_by(winner_rank) %>%\n",
    "summarise(Count = n())  \n",
    "number_of_rows_winner_rank\n",
    "\n",
    "number_of_rows_winner_rank_points <- ATP_training %>%\n",
    "group_by(winner_rank_points) %>%\n",
    "summarise(Count = n())  \n",
    "number_of_rows_winner_rank_points\n",
    "\n",
    "number_of_rows_loser_rank <- ATP_training %>%\n",
    "group_by(loser_rank) %>%\n",
    "summarise(Count = n())  \n",
    "number_of_rows_loser_rank\n",
    "\n",
    "number_of_rows_loser_rank_points <- ATP_training %>%\n",
    "group_by(loser_rank_points) %>%\n",
    "summarise(Count = n())  \n",
    "number_of_rows_loser_rank_points"
   ]
  },
  {
   "cell_type": "markdown",
   "metadata": {},
   "source": [
    "Plotting our data:\n",
    "\n",
    "since our data has a loser and winner set of data, we can create a plot showing different stats of both data with side by side graph comparisons. "
   ]
  },
  {
   "cell_type": "code",
   "execution_count": null,
   "metadata": {},
   "outputs": [],
   "source": [
    "options(repr.plot.height = 8, repr.plot.width = 7)\n",
    "\n",
    "ATP_plot <- ggplot(ATP_training, aes(x = winner_ht, y = winner_rank)) +\n",
    "geom_point() +\n",
    "facet_wrap(~ factor(winner_hand, levels = c(\"R\",\"L\"))) +\n",
    "xlab(\"Winner Height (in cm)\") +\n",
    "ylab(\"Winner Rank\") +\n",
    "ggtitle(\"Rank Over Height Graph\") +\n",
    "theme(text = element_text(size = 20))\n",
    "ATP_plot\n",
    "\n",
    "\n",
    "ATP_plot2 <- ggplot(ATP_training, aes(x = loser_ht, y = loser_rank)) +\n",
    "geom_point() +\n",
    "facet_wrap(~ factor(loser_hand, levels = c(\"R\",\"L\"))) +\n",
    "xlab(\"Loser Height (in cm)\") +\n",
    "ylab(\"Loser Rank\") +\n",
    "ggtitle(\"Rank Over Height Graph\") +\n",
    "theme(text = element_text(size = 20))\n",
    "ATP_plot2"
   ]
  },
  {
   "cell_type": "code",
   "execution_count": null,
   "metadata": {},
   "outputs": [],
   "source": [
    "options(repr.plot.height = 8, repr.plot.width = 7)\n",
    "\n",
    "ATP_plot3 <- ggplot(ATP_training, aes(x = winner_age, y = winner_rank)) +\n",
    "geom_point(alpha = 0.3) +\n",
    "facet_wrap(~ factor(winner_hand, levels = c(\"R\",\"L\"))) +\n",
    "xlab(\"Winner Age (years)\") +\n",
    "ylab(\"Winner Rank\") +\n",
    "ggtitle(\"Rank Over Age Graph\") +\n",
    "theme(text = element_text(size = 20))\n",
    "ATP_plot3\n",
    "\n",
    "\n",
    "ATP_plot4 <- ggplot(ATP_training, aes(x = loser_age, y = loser_rank)) +\n",
    "geom_point(alpha = 0.3) +\n",
    "facet_wrap(~ factor(loser_hand, levels = c(\"R\",\"L\"))) +\n",
    "xlab(\"Loser Age (years)\") +\n",
    "ylab(\"Loser Rank\") +\n",
    "ggtitle(\"Rank Over Age Graph\") +\n",
    "theme(text = element_text(size = 20))\n",
    "ATP_plot4"
   ]
  },
  {
   "cell_type": "code",
   "execution_count": null,
   "metadata": {},
   "outputs": [],
   "source": []
  }
 ],
 "metadata": {
  "kernelspec": {
   "display_name": "R",
   "language": "R",
   "name": "ir"
  },
  "language_info": {
   "codemirror_mode": "r",
   "file_extension": ".r",
   "mimetype": "text/x-r-source",
   "name": "R",
   "pygments_lexer": "r",
   "version": "4.0.0"
  }
 },
 "nbformat": 4,
 "nbformat_minor": 4
}
