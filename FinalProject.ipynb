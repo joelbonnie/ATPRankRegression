{
 "cells": [
  {
   "cell_type": "markdown",
   "metadata": {},
   "source": [
    "<h1> <b> DSCI 100 Final Project: <br>\n",
    "    Predicting the ATP Rankings </b> </h1>\n",
    "\n",
    "\n",
    "\n"
   ]
  },
  {
   "cell_type": "markdown",
   "metadata": {},
   "source": [
    "<h2> Introduction </h2>"
   ]
  },
  {
   "cell_type": "markdown",
   "metadata": {},
   "source": [
    "The Assocation of Tennis Professionals is the governing body for international professional men's tennis tournaments. The ATP maintains a widely recognized ranking of professional tennis players based on their past results. For example, Serbian tennis superstar Novak Djokovic currently sits atop of the ATP rankings, while the highest ranking Canadian, Felix Auger-Aliassime, ranks 11th. For this project, we will be making use of an Assocation of Tennis Profesionals (ATP) dataset to predict players' ATP ranking. Generally speaking, the goal of this project is to develop a regression model which can predict the ATP rank of a player given past information about players and matches. Examples of predictor variables include age of the player, ATP rank points, height of the player, and so on and so forth.\n",
    "\n",
    "The dataset we are using has been compiled from Jeff Slackmans Github page (https://github.com/JeffSackmann/tennis_atp). The dataset contains information regarding players, the match, and the tournament the match was played in. The dataset itself is limited from 2017-2019. However, the ATP ranking formula/system has not changed since then. Therefore, we can test the accuracy of our model by testing its predictive ability on the current rankings of players. For instance, we can attempt to use our model to predict Felix Auger-Aliassime's ranking in 2021.\n",
    "\n",
    "We are asking a regression question, as we are attempting to discern if one or more variables can be used to predict a numerical variable of interest, in this case, where one would expect a player of a particular height, age, and rank points to be ranked by the ATP relative to their peers."
   ]
  },
  {
   "cell_type": "markdown",
   "metadata": {},
   "source": [
    "<h2> Methods and Results </h2>"
   ]
  },
  {
   "cell_type": "markdown",
   "metadata": {},
   "source": [
    "To begin, our dataset must be loaded from its original source on the web. Then, the data must be wrangled to fit the requirements needed for this project:"
   ]
  },
  {
   "cell_type": "code",
   "execution_count": 2,
   "metadata": {},
   "outputs": [
    {
     "name": "stderr",
     "output_type": "stream",
     "text": [
      "── \u001b[1mAttaching packages\u001b[22m ─────────────────────────────────────── tidyverse 1.3.0 ──\n",
      "\n",
      "\u001b[32m✔\u001b[39m \u001b[34mggplot2\u001b[39m 3.3.2     \u001b[32m✔\u001b[39m \u001b[34mpurrr  \u001b[39m 0.3.4\n",
      "\u001b[32m✔\u001b[39m \u001b[34mtibble \u001b[39m 3.0.3     \u001b[32m✔\u001b[39m \u001b[34mdplyr  \u001b[39m 1.0.2\n",
      "\u001b[32m✔\u001b[39m \u001b[34mtidyr  \u001b[39m 1.1.2     \u001b[32m✔\u001b[39m \u001b[34mstringr\u001b[39m 1.4.0\n",
      "\u001b[32m✔\u001b[39m \u001b[34mreadr  \u001b[39m 1.3.1     \u001b[32m✔\u001b[39m \u001b[34mforcats\u001b[39m 0.5.0\n",
      "\n",
      "Warning message:\n",
      "“package ‘ggplot2’ was built under R version 4.0.1”\n",
      "Warning message:\n",
      "“package ‘tibble’ was built under R version 4.0.2”\n",
      "Warning message:\n",
      "“package ‘tidyr’ was built under R version 4.0.2”\n",
      "Warning message:\n",
      "“package ‘dplyr’ was built under R version 4.0.2”\n",
      "── \u001b[1mConflicts\u001b[22m ────────────────────────────────────────── tidyverse_conflicts() ──\n",
      "\u001b[31m✖\u001b[39m \u001b[34mdplyr\u001b[39m::\u001b[32mfilter()\u001b[39m masks \u001b[34mstats\u001b[39m::filter()\n",
      "\u001b[31m✖\u001b[39m \u001b[34mdplyr\u001b[39m::\u001b[32mlag()\u001b[39m    masks \u001b[34mstats\u001b[39m::lag()\n",
      "\n",
      "Warning message:\n",
      "“package ‘tidymodels’ was built under R version 4.0.2”\n",
      "── \u001b[1mAttaching packages\u001b[22m ────────────────────────────────────── tidymodels 0.1.1 ──\n",
      "\n",
      "\u001b[32m✔\u001b[39m \u001b[34mbroom    \u001b[39m 0.7.0      \u001b[32m✔\u001b[39m \u001b[34mrecipes  \u001b[39m 0.1.13\n",
      "\u001b[32m✔\u001b[39m \u001b[34mdials    \u001b[39m 0.0.9      \u001b[32m✔\u001b[39m \u001b[34mrsample  \u001b[39m 0.0.7 \n",
      "\u001b[32m✔\u001b[39m \u001b[34minfer    \u001b[39m 0.5.4      \u001b[32m✔\u001b[39m \u001b[34mtune     \u001b[39m 0.1.1 \n",
      "\u001b[32m✔\u001b[39m \u001b[34mmodeldata\u001b[39m 0.0.2      \u001b[32m✔\u001b[39m \u001b[34mworkflows\u001b[39m 0.2.0 \n",
      "\u001b[32m✔\u001b[39m \u001b[34mparsnip  \u001b[39m 0.1.3      \u001b[32m✔\u001b[39m \u001b[34myardstick\u001b[39m 0.0.7 \n",
      "\n",
      "Warning message:\n",
      "“package ‘broom’ was built under R version 4.0.2”\n",
      "Warning message:\n",
      "“package ‘dials’ was built under R version 4.0.2”\n",
      "Warning message:\n",
      "“package ‘infer’ was built under R version 4.0.3”\n",
      "Warning message:\n",
      "“package ‘modeldata’ was built under R version 4.0.1”\n",
      "Warning message:\n",
      "“package ‘parsnip’ was built under R version 4.0.2”\n",
      "Warning message:\n",
      "“package ‘recipes’ was built under R version 4.0.1”\n",
      "Warning message:\n",
      "“package ‘tune’ was built under R version 4.0.2”\n",
      "Warning message:\n",
      "“package ‘workflows’ was built under R version 4.0.2”\n",
      "Warning message:\n",
      "“package ‘yardstick’ was built under R version 4.0.2”\n",
      "── \u001b[1mConflicts\u001b[22m ───────────────────────────────────────── tidymodels_conflicts() ──\n",
      "\u001b[31m✖\u001b[39m \u001b[34mscales\u001b[39m::\u001b[32mdiscard()\u001b[39m masks \u001b[34mpurrr\u001b[39m::discard()\n",
      "\u001b[31m✖\u001b[39m \u001b[34mdplyr\u001b[39m::\u001b[32mfilter()\u001b[39m   masks \u001b[34mstats\u001b[39m::filter()\n",
      "\u001b[31m✖\u001b[39m \u001b[34mrecipes\u001b[39m::\u001b[32mfixed()\u001b[39m  masks \u001b[34mstringr\u001b[39m::fixed()\n",
      "\u001b[31m✖\u001b[39m \u001b[34mdplyr\u001b[39m::\u001b[32mlag()\u001b[39m      masks \u001b[34mstats\u001b[39m::lag()\n",
      "\u001b[31m✖\u001b[39m \u001b[34myardstick\u001b[39m::\u001b[32mspec()\u001b[39m masks \u001b[34mreadr\u001b[39m::spec()\n",
      "\u001b[31m✖\u001b[39m \u001b[34mrecipes\u001b[39m::\u001b[32mstep()\u001b[39m   masks \u001b[34mstats\u001b[39m::step()\n",
      "\n",
      "Warning message:\n",
      "“Missing column names filled in: 'X1' [1]”\n",
      "Parsed with column specification:\n",
      "cols(\n",
      "  .default = col_double(),\n",
      "  tourney_id = \u001b[31mcol_character()\u001b[39m,\n",
      "  tourney_name = \u001b[31mcol_character()\u001b[39m,\n",
      "  surface = \u001b[31mcol_character()\u001b[39m,\n",
      "  tourney_level = \u001b[31mcol_character()\u001b[39m,\n",
      "  winner_seed = \u001b[31mcol_character()\u001b[39m,\n",
      "  winner_entry = \u001b[31mcol_character()\u001b[39m,\n",
      "  winner_name = \u001b[31mcol_character()\u001b[39m,\n",
      "  winner_hand = \u001b[31mcol_character()\u001b[39m,\n",
      "  winner_ioc = \u001b[31mcol_character()\u001b[39m,\n",
      "  loser_seed = \u001b[31mcol_character()\u001b[39m,\n",
      "  loser_entry = \u001b[31mcol_character()\u001b[39m,\n",
      "  loser_name = \u001b[31mcol_character()\u001b[39m,\n",
      "  loser_hand = \u001b[31mcol_character()\u001b[39m,\n",
      "  loser_ioc = \u001b[31mcol_character()\u001b[39m,\n",
      "  score = \u001b[31mcol_character()\u001b[39m,\n",
      "  round = \u001b[31mcol_character()\u001b[39m\n",
      ")\n",
      "\n",
      "See spec(...) for full column specifications.\n",
      "\n"
     ]
    },
    {
     "data": {
      "text/html": [
       "<table>\n",
       "<caption>A spec_tbl_df: 6866 × 50</caption>\n",
       "<thead>\n",
       "\t<tr><th scope=col>X1</th><th scope=col>tourney_id</th><th scope=col>tourney_name</th><th scope=col>surface</th><th scope=col>draw_size</th><th scope=col>tourney_level</th><th scope=col>tourney_date</th><th scope=col>match_num</th><th scope=col>winner_id</th><th scope=col>winner_seed</th><th scope=col>⋯</th><th scope=col>l_1stIn</th><th scope=col>l_1stWon</th><th scope=col>l_2ndWon</th><th scope=col>l_SvGms</th><th scope=col>l_bpSaved</th><th scope=col>l_bpFaced</th><th scope=col>winner_rank</th><th scope=col>winner_rank_points</th><th scope=col>loser_rank</th><th scope=col>loser_rank_points</th></tr>\n",
       "\t<tr><th scope=col>&lt;dbl&gt;</th><th scope=col>&lt;chr&gt;</th><th scope=col>&lt;chr&gt;</th><th scope=col>&lt;chr&gt;</th><th scope=col>&lt;dbl&gt;</th><th scope=col>&lt;chr&gt;</th><th scope=col>&lt;dbl&gt;</th><th scope=col>&lt;dbl&gt;</th><th scope=col>&lt;dbl&gt;</th><th scope=col>&lt;chr&gt;</th><th scope=col>⋯</th><th scope=col>&lt;dbl&gt;</th><th scope=col>&lt;dbl&gt;</th><th scope=col>&lt;dbl&gt;</th><th scope=col>&lt;dbl&gt;</th><th scope=col>&lt;dbl&gt;</th><th scope=col>&lt;dbl&gt;</th><th scope=col>&lt;dbl&gt;</th><th scope=col>&lt;dbl&gt;</th><th scope=col>&lt;dbl&gt;</th><th scope=col>&lt;dbl&gt;</th></tr>\n",
       "</thead>\n",
       "<tbody>\n",
       "\t<tr><td>0</td><td>2019-M020</td><td>Brisbane</td><td>Hard</td><td>32</td><td>A</td><td>20181231</td><td>300</td><td>105453</td><td>2</td><td>⋯</td><td>54</td><td>34</td><td>20</td><td>14</td><td>10</td><td>15</td><td> 9</td><td>3590</td><td> 16</td><td>1977</td></tr>\n",
       "\t<tr><td>1</td><td>2019-M020</td><td>Brisbane</td><td>Hard</td><td>32</td><td>A</td><td>20181231</td><td>299</td><td>106421</td><td>4</td><td>⋯</td><td>52</td><td>36</td><td> 7</td><td>10</td><td>10</td><td>13</td><td>16</td><td>1977</td><td>239</td><td> 200</td></tr>\n",
       "\t<tr><td>2</td><td>2019-M020</td><td>Brisbane</td><td>Hard</td><td>32</td><td>A</td><td>20181231</td><td>298</td><td>105453</td><td>2</td><td>⋯</td><td>27</td><td>15</td><td> 6</td><td> 8</td><td> 1</td><td> 5</td><td> 9</td><td>3590</td><td> 40</td><td>1050</td></tr>\n",
       "\t<tr><td>⋮</td><td>⋮</td><td>⋮</td><td>⋮</td><td>⋮</td><td>⋮</td><td>⋮</td><td>⋮</td><td>⋮</td><td>⋮</td><td>⋱</td><td>⋮</td><td>⋮</td><td>⋮</td><td>⋮</td><td>⋮</td><td>⋮</td><td>⋮</td><td>⋮</td><td>⋮</td><td>⋮</td></tr>\n",
       "\t<tr><td>2883</td><td>2017-M-DC-2017-WG-M-BEL-FRA-01</td><td>Davis Cup WG F: BEL vs FRA</td><td>Hard</td><td>4</td><td>D</td><td>20171124</td><td>2</td><td>104542</td><td>NA</td><td>⋯</td><td>54</td><td>30</td><td>12</td><td>12</td><td>5</td><td>11</td><td>15</td><td>2320</td><td>76</td><td> 667</td></tr>\n",
       "\t<tr><td>2884</td><td>2017-M-DC-2017-WG-M-BEL-FRA-01</td><td>Davis Cup WG F: BEL vs FRA</td><td>Hard</td><td>4</td><td>D</td><td>20171124</td><td>4</td><td>105676</td><td>NA</td><td>⋯</td><td>54</td><td>44</td><td>13</td><td>14</td><td>7</td><td>10</td><td> 7</td><td>3775</td><td>15</td><td>2320</td></tr>\n",
       "\t<tr><td>2885</td><td>2017-M-DC-2017-WG-M-BEL-FRA-01</td><td>Davis Cup WG F: BEL vs FRA</td><td>Hard</td><td>4</td><td>D</td><td>20171124</td><td>5</td><td>106298</td><td>NA</td><td>⋯</td><td>53</td><td>29</td><td>11</td><td>11</td><td>4</td><td>11</td><td>18</td><td>2235</td><td>76</td><td> 667</td></tr>\n",
       "</tbody>\n",
       "</table>\n"
      ],
      "text/latex": [
       "A spec\\_tbl\\_df: 6866 × 50\n",
       "\\begin{tabular}{lllllllllllllllllllll}\n",
       " X1 & tourney\\_id & tourney\\_name & surface & draw\\_size & tourney\\_level & tourney\\_date & match\\_num & winner\\_id & winner\\_seed & ⋯ & l\\_1stIn & l\\_1stWon & l\\_2ndWon & l\\_SvGms & l\\_bpSaved & l\\_bpFaced & winner\\_rank & winner\\_rank\\_points & loser\\_rank & loser\\_rank\\_points\\\\\n",
       " <dbl> & <chr> & <chr> & <chr> & <dbl> & <chr> & <dbl> & <dbl> & <dbl> & <chr> & ⋯ & <dbl> & <dbl> & <dbl> & <dbl> & <dbl> & <dbl> & <dbl> & <dbl> & <dbl> & <dbl>\\\\\n",
       "\\hline\n",
       "\t 0 & 2019-M020 & Brisbane & Hard & 32 & A & 20181231 & 300 & 105453 & 2 & ⋯ & 54 & 34 & 20 & 14 & 10 & 15 &  9 & 3590 &  16 & 1977\\\\\n",
       "\t 1 & 2019-M020 & Brisbane & Hard & 32 & A & 20181231 & 299 & 106421 & 4 & ⋯ & 52 & 36 &  7 & 10 & 10 & 13 & 16 & 1977 & 239 &  200\\\\\n",
       "\t 2 & 2019-M020 & Brisbane & Hard & 32 & A & 20181231 & 298 & 105453 & 2 & ⋯ & 27 & 15 &  6 &  8 &  1 &  5 &  9 & 3590 &  40 & 1050\\\\\n",
       "\t ⋮ & ⋮ & ⋮ & ⋮ & ⋮ & ⋮ & ⋮ & ⋮ & ⋮ & ⋮ & ⋱ & ⋮ & ⋮ & ⋮ & ⋮ & ⋮ & ⋮ & ⋮ & ⋮ & ⋮ & ⋮\\\\\n",
       "\t 2883 & 2017-M-DC-2017-WG-M-BEL-FRA-01 & Davis Cup WG F: BEL vs FRA & Hard & 4 & D & 20171124 & 2 & 104542 & NA & ⋯ & 54 & 30 & 12 & 12 & 5 & 11 & 15 & 2320 & 76 &  667\\\\\n",
       "\t 2884 & 2017-M-DC-2017-WG-M-BEL-FRA-01 & Davis Cup WG F: BEL vs FRA & Hard & 4 & D & 20171124 & 4 & 105676 & NA & ⋯ & 54 & 44 & 13 & 14 & 7 & 10 &  7 & 3775 & 15 & 2320\\\\\n",
       "\t 2885 & 2017-M-DC-2017-WG-M-BEL-FRA-01 & Davis Cup WG F: BEL vs FRA & Hard & 4 & D & 20171124 & 5 & 106298 & NA & ⋯ & 53 & 29 & 11 & 11 & 4 & 11 & 18 & 2235 & 76 &  667\\\\\n",
       "\\end{tabular}\n"
      ],
      "text/markdown": [
       "\n",
       "A spec_tbl_df: 6866 × 50\n",
       "\n",
       "| X1 &lt;dbl&gt; | tourney_id &lt;chr&gt; | tourney_name &lt;chr&gt; | surface &lt;chr&gt; | draw_size &lt;dbl&gt; | tourney_level &lt;chr&gt; | tourney_date &lt;dbl&gt; | match_num &lt;dbl&gt; | winner_id &lt;dbl&gt; | winner_seed &lt;chr&gt; | ⋯ ⋯ | l_1stIn &lt;dbl&gt; | l_1stWon &lt;dbl&gt; | l_2ndWon &lt;dbl&gt; | l_SvGms &lt;dbl&gt; | l_bpSaved &lt;dbl&gt; | l_bpFaced &lt;dbl&gt; | winner_rank &lt;dbl&gt; | winner_rank_points &lt;dbl&gt; | loser_rank &lt;dbl&gt; | loser_rank_points &lt;dbl&gt; |\n",
       "|---|---|---|---|---|---|---|---|---|---|---|---|---|---|---|---|---|---|---|---|---|\n",
       "| 0 | 2019-M020 | Brisbane | Hard | 32 | A | 20181231 | 300 | 105453 | 2 | ⋯ | 54 | 34 | 20 | 14 | 10 | 15 |  9 | 3590 |  16 | 1977 |\n",
       "| 1 | 2019-M020 | Brisbane | Hard | 32 | A | 20181231 | 299 | 106421 | 4 | ⋯ | 52 | 36 |  7 | 10 | 10 | 13 | 16 | 1977 | 239 |  200 |\n",
       "| 2 | 2019-M020 | Brisbane | Hard | 32 | A | 20181231 | 298 | 105453 | 2 | ⋯ | 27 | 15 |  6 |  8 |  1 |  5 |  9 | 3590 |  40 | 1050 |\n",
       "| ⋮ | ⋮ | ⋮ | ⋮ | ⋮ | ⋮ | ⋮ | ⋮ | ⋮ | ⋮ | ⋱ | ⋮ | ⋮ | ⋮ | ⋮ | ⋮ | ⋮ | ⋮ | ⋮ | ⋮ | ⋮ |\n",
       "| 2883 | 2017-M-DC-2017-WG-M-BEL-FRA-01 | Davis Cup WG F: BEL vs FRA | Hard | 4 | D | 20171124 | 2 | 104542 | NA | ⋯ | 54 | 30 | 12 | 12 | 5 | 11 | 15 | 2320 | 76 |  667 |\n",
       "| 2884 | 2017-M-DC-2017-WG-M-BEL-FRA-01 | Davis Cup WG F: BEL vs FRA | Hard | 4 | D | 20171124 | 4 | 105676 | NA | ⋯ | 54 | 44 | 13 | 14 | 7 | 10 |  7 | 3775 | 15 | 2320 |\n",
       "| 2885 | 2017-M-DC-2017-WG-M-BEL-FRA-01 | Davis Cup WG F: BEL vs FRA | Hard | 4 | D | 20171124 | 5 | 106298 | NA | ⋯ | 53 | 29 | 11 | 11 | 4 | 11 | 18 | 2235 | 76 |  667 |\n",
       "\n"
      ],
      "text/plain": [
       "     X1   tourney_id                     tourney_name               surface\n",
       "1    0    2019-M020                      Brisbane                   Hard   \n",
       "2    1    2019-M020                      Brisbane                   Hard   \n",
       "3    2    2019-M020                      Brisbane                   Hard   \n",
       "⋮    ⋮    ⋮                              ⋮                          ⋮      \n",
       "6864 2883 2017-M-DC-2017-WG-M-BEL-FRA-01 Davis Cup WG F: BEL vs FRA Hard   \n",
       "6865 2884 2017-M-DC-2017-WG-M-BEL-FRA-01 Davis Cup WG F: BEL vs FRA Hard   \n",
       "6866 2885 2017-M-DC-2017-WG-M-BEL-FRA-01 Davis Cup WG F: BEL vs FRA Hard   \n",
       "     draw_size tourney_level tourney_date match_num winner_id winner_seed ⋯\n",
       "1    32        A             20181231     300       105453    2           ⋯\n",
       "2    32        A             20181231     299       106421    4           ⋯\n",
       "3    32        A             20181231     298       105453    2           ⋯\n",
       "⋮    ⋮         ⋮             ⋮            ⋮         ⋮         ⋮           ⋱\n",
       "6864 4         D             20171124     2         104542    NA          ⋯\n",
       "6865 4         D             20171124     4         105676    NA          ⋯\n",
       "6866 4         D             20171124     5         106298    NA          ⋯\n",
       "     l_1stIn l_1stWon l_2ndWon l_SvGms l_bpSaved l_bpFaced winner_rank\n",
       "1    54      34       20       14      10        15         9         \n",
       "2    52      36        7       10      10        13        16         \n",
       "3    27      15        6        8       1         5         9         \n",
       "⋮    ⋮       ⋮        ⋮        ⋮       ⋮         ⋮         ⋮          \n",
       "6864 54      30       12       12      5         11        15         \n",
       "6865 54      44       13       14      7         10         7         \n",
       "6866 53      29       11       11      4         11        18         \n",
       "     winner_rank_points loser_rank loser_rank_points\n",
       "1    3590                16        1977             \n",
       "2    1977               239         200             \n",
       "3    3590                40        1050             \n",
       "⋮    ⋮                  ⋮          ⋮                \n",
       "6864 2320               76          667             \n",
       "6865 3775               15         2320             \n",
       "6866 2235               76          667             "
      ]
     },
     "metadata": {},
     "output_type": "display_data"
    }
   ],
   "source": [
    "#Loading the dataset \n",
    "\n",
    "library(tidyverse)\n",
    "library(tidyr)\n",
    "library(tidymodels)\n",
    "library(dplyr)\n",
    "library(digest)\n",
    "library(repr)\n",
    "options(repr.matrix.max.rows = 6)\n",
    "\n",
    "url <- \"https://drive.google.com/uc?export=download&id=1fOQ8sy_qMkQiQEAO6uFdRX4tLI8EpSTn\"\n",
    "\n",
    "ATP_data <- read_csv(url)\n",
    "ATP_data"
   ]
  },
  {
   "cell_type": "markdown",
   "metadata": {},
   "source": [
    "There are several columns which we can reasonably anticipate will not effect our predictions, and therefore are not in the scope of our question. These columns should be removed. Examples of such columns include tourney_level, draw_size, match_num, etc. Certain columns may be useful in answering the predicitive question, but are categorical in nature. These variables have also been removed to allow for a smoother analysis when answering the predicitive question. Examples of such columns include winner_hand and loser_hand"
   ]
  },
  {
   "cell_type": "code",
   "execution_count": 3,
   "metadata": {},
   "outputs": [
    {
     "data": {
      "text/html": [
       "<table>\n",
       "<caption>A tibble: 6866 × 8</caption>\n",
       "<thead>\n",
       "\t<tr><th scope=col>winner_ht</th><th scope=col>winner_age</th><th scope=col>loser_ht</th><th scope=col>loser_age</th><th scope=col>winner_rank</th><th scope=col>winner_rank_points</th><th scope=col>loser_rank</th><th scope=col>loser_rank_points</th></tr>\n",
       "\t<tr><th scope=col>&lt;dbl&gt;</th><th scope=col>&lt;dbl&gt;</th><th scope=col>&lt;dbl&gt;</th><th scope=col>&lt;dbl&gt;</th><th scope=col>&lt;dbl&gt;</th><th scope=col>&lt;dbl&gt;</th><th scope=col>&lt;dbl&gt;</th><th scope=col>&lt;dbl&gt;</th></tr>\n",
       "</thead>\n",
       "<tbody>\n",
       "\t<tr><td>178</td><td>29.00479</td><td> NA</td><td>22.88569</td><td> 9</td><td>3590</td><td> 16</td><td>1977</td></tr>\n",
       "\t<tr><td> NA</td><td>22.88569</td><td>188</td><td>33.70568</td><td>16</td><td>1977</td><td>239</td><td> 200</td></tr>\n",
       "\t<tr><td>178</td><td>29.00479</td><td>188</td><td>31.88227</td><td> 9</td><td>3590</td><td> 40</td><td>1050</td></tr>\n",
       "\t<tr><td>⋮</td><td>⋮</td><td>⋮</td><td>⋮</td><td>⋮</td><td>⋮</td><td>⋮</td><td>⋮</td></tr>\n",
       "\t<tr><td>188</td><td>32.59411</td><td>178</td><td>33.68925</td><td>15</td><td>2320</td><td>76</td><td> 667</td></tr>\n",
       "\t<tr><td>163</td><td>26.95414</td><td>188</td><td>32.59411</td><td> 7</td><td>3775</td><td>15</td><td>2320</td></tr>\n",
       "\t<tr><td>185</td><td>23.73990</td><td>178</td><td>33.68925</td><td>18</td><td>2235</td><td>76</td><td> 667</td></tr>\n",
       "</tbody>\n",
       "</table>\n"
      ],
      "text/latex": [
       "A tibble: 6866 × 8\n",
       "\\begin{tabular}{llllllll}\n",
       " winner\\_ht & winner\\_age & loser\\_ht & loser\\_age & winner\\_rank & winner\\_rank\\_points & loser\\_rank & loser\\_rank\\_points\\\\\n",
       " <dbl> & <dbl> & <dbl> & <dbl> & <dbl> & <dbl> & <dbl> & <dbl>\\\\\n",
       "\\hline\n",
       "\t 178 & 29.00479 &  NA & 22.88569 &  9 & 3590 &  16 & 1977\\\\\n",
       "\t  NA & 22.88569 & 188 & 33.70568 & 16 & 1977 & 239 &  200\\\\\n",
       "\t 178 & 29.00479 & 188 & 31.88227 &  9 & 3590 &  40 & 1050\\\\\n",
       "\t ⋮ & ⋮ & ⋮ & ⋮ & ⋮ & ⋮ & ⋮ & ⋮\\\\\n",
       "\t 188 & 32.59411 & 178 & 33.68925 & 15 & 2320 & 76 &  667\\\\\n",
       "\t 163 & 26.95414 & 188 & 32.59411 &  7 & 3775 & 15 & 2320\\\\\n",
       "\t 185 & 23.73990 & 178 & 33.68925 & 18 & 2235 & 76 &  667\\\\\n",
       "\\end{tabular}\n"
      ],
      "text/markdown": [
       "\n",
       "A tibble: 6866 × 8\n",
       "\n",
       "| winner_ht &lt;dbl&gt; | winner_age &lt;dbl&gt; | loser_ht &lt;dbl&gt; | loser_age &lt;dbl&gt; | winner_rank &lt;dbl&gt; | winner_rank_points &lt;dbl&gt; | loser_rank &lt;dbl&gt; | loser_rank_points &lt;dbl&gt; |\n",
       "|---|---|---|---|---|---|---|---|\n",
       "| 178 | 29.00479 |  NA | 22.88569 |  9 | 3590 |  16 | 1977 |\n",
       "|  NA | 22.88569 | 188 | 33.70568 | 16 | 1977 | 239 |  200 |\n",
       "| 178 | 29.00479 | 188 | 31.88227 |  9 | 3590 |  40 | 1050 |\n",
       "| ⋮ | ⋮ | ⋮ | ⋮ | ⋮ | ⋮ | ⋮ | ⋮ |\n",
       "| 188 | 32.59411 | 178 | 33.68925 | 15 | 2320 | 76 |  667 |\n",
       "| 163 | 26.95414 | 188 | 32.59411 |  7 | 3775 | 15 | 2320 |\n",
       "| 185 | 23.73990 | 178 | 33.68925 | 18 | 2235 | 76 |  667 |\n",
       "\n"
      ],
      "text/plain": [
       "     winner_ht winner_age loser_ht loser_age winner_rank winner_rank_points\n",
       "1    178       29.00479    NA      22.88569   9          3590              \n",
       "2     NA       22.88569   188      33.70568  16          1977              \n",
       "3    178       29.00479   188      31.88227   9          3590              \n",
       "⋮    ⋮         ⋮          ⋮        ⋮         ⋮           ⋮                 \n",
       "6864 188       32.59411   178      33.68925  15          2320              \n",
       "6865 163       26.95414   188      32.59411   7          3775              \n",
       "6866 185       23.73990   178      33.68925  18          2235              \n",
       "     loser_rank loser_rank_points\n",
       "1     16        1977             \n",
       "2    239         200             \n",
       "3     40        1050             \n",
       "⋮    ⋮          ⋮                \n",
       "6864 76          667             \n",
       "6865 15         2320             \n",
       "6866 76          667             "
      ]
     },
     "metadata": {},
     "output_type": "display_data"
    }
   ],
   "source": [
    "#select the columns necessary from the dataset\n",
    "\n",
    "ATP_data_trimmed <- select(ATP_data, winner_ht, winner_age, loser_ht, loser_age, winner_rank, winner_rank_points, loser_rank, loser_rank_points)\n",
    "ATP_data_trimmed"
   ]
  },
  {
   "cell_type": "markdown",
   "metadata": {},
   "source": [
    "After removing those extra columns, this dataset is relatively clean. However, there are some observations that contain 'NA' values, which make the data untidy, therefore, all rows with an NA value should be removed:"
   ]
  },
  {
   "cell_type": "code",
   "execution_count": 4,
   "metadata": {},
   "outputs": [
    {
     "data": {
      "text/html": [
       "<table>\n",
       "<caption>A tibble: 2908 × 8</caption>\n",
       "<thead>\n",
       "\t<tr><th scope=col>winner_ht</th><th scope=col>winner_age</th><th scope=col>loser_ht</th><th scope=col>loser_age</th><th scope=col>winner_rank</th><th scope=col>winner_rank_points</th><th scope=col>loser_rank</th><th scope=col>loser_rank_points</th></tr>\n",
       "\t<tr><th scope=col>&lt;dbl&gt;</th><th scope=col>&lt;dbl&gt;</th><th scope=col>&lt;dbl&gt;</th><th scope=col>&lt;dbl&gt;</th><th scope=col>&lt;dbl&gt;</th><th scope=col>&lt;dbl&gt;</th><th scope=col>&lt;dbl&gt;</th><th scope=col>&lt;dbl&gt;</th></tr>\n",
       "</thead>\n",
       "<tbody>\n",
       "\t<tr><td>178</td><td>29.00479</td><td>188</td><td>31.88227</td><td> 9</td><td>3590</td><td>40</td><td>1050</td></tr>\n",
       "\t<tr><td>178</td><td>29.00479</td><td>188</td><td>27.62765</td><td> 9</td><td>3590</td><td>19</td><td>1835</td></tr>\n",
       "\t<tr><td>188</td><td>31.88227</td><td>193</td><td>23.67967</td><td>40</td><td>1050</td><td>35</td><td>1125</td></tr>\n",
       "\t<tr><td>⋮</td><td>⋮</td><td>⋮</td><td>⋮</td><td>⋮</td><td>⋮</td><td>⋮</td><td>⋮</td></tr>\n",
       "\t<tr><td>188</td><td>32.59411</td><td>178</td><td>33.68925</td><td>15</td><td>2320</td><td>76</td><td> 667</td></tr>\n",
       "\t<tr><td>163</td><td>26.95414</td><td>188</td><td>32.59411</td><td> 7</td><td>3775</td><td>15</td><td>2320</td></tr>\n",
       "\t<tr><td>185</td><td>23.73990</td><td>178</td><td>33.68925</td><td>18</td><td>2235</td><td>76</td><td> 667</td></tr>\n",
       "</tbody>\n",
       "</table>\n"
      ],
      "text/latex": [
       "A tibble: 2908 × 8\n",
       "\\begin{tabular}{llllllll}\n",
       " winner\\_ht & winner\\_age & loser\\_ht & loser\\_age & winner\\_rank & winner\\_rank\\_points & loser\\_rank & loser\\_rank\\_points\\\\\n",
       " <dbl> & <dbl> & <dbl> & <dbl> & <dbl> & <dbl> & <dbl> & <dbl>\\\\\n",
       "\\hline\n",
       "\t 178 & 29.00479 & 188 & 31.88227 &  9 & 3590 & 40 & 1050\\\\\n",
       "\t 178 & 29.00479 & 188 & 27.62765 &  9 & 3590 & 19 & 1835\\\\\n",
       "\t 188 & 31.88227 & 193 & 23.67967 & 40 & 1050 & 35 & 1125\\\\\n",
       "\t ⋮ & ⋮ & ⋮ & ⋮ & ⋮ & ⋮ & ⋮ & ⋮\\\\\n",
       "\t 188 & 32.59411 & 178 & 33.68925 & 15 & 2320 & 76 &  667\\\\\n",
       "\t 163 & 26.95414 & 188 & 32.59411 &  7 & 3775 & 15 & 2320\\\\\n",
       "\t 185 & 23.73990 & 178 & 33.68925 & 18 & 2235 & 76 &  667\\\\\n",
       "\\end{tabular}\n"
      ],
      "text/markdown": [
       "\n",
       "A tibble: 2908 × 8\n",
       "\n",
       "| winner_ht &lt;dbl&gt; | winner_age &lt;dbl&gt; | loser_ht &lt;dbl&gt; | loser_age &lt;dbl&gt; | winner_rank &lt;dbl&gt; | winner_rank_points &lt;dbl&gt; | loser_rank &lt;dbl&gt; | loser_rank_points &lt;dbl&gt; |\n",
       "|---|---|---|---|---|---|---|---|\n",
       "| 178 | 29.00479 | 188 | 31.88227 |  9 | 3590 | 40 | 1050 |\n",
       "| 178 | 29.00479 | 188 | 27.62765 |  9 | 3590 | 19 | 1835 |\n",
       "| 188 | 31.88227 | 193 | 23.67967 | 40 | 1050 | 35 | 1125 |\n",
       "| ⋮ | ⋮ | ⋮ | ⋮ | ⋮ | ⋮ | ⋮ | ⋮ |\n",
       "| 188 | 32.59411 | 178 | 33.68925 | 15 | 2320 | 76 |  667 |\n",
       "| 163 | 26.95414 | 188 | 32.59411 |  7 | 3775 | 15 | 2320 |\n",
       "| 185 | 23.73990 | 178 | 33.68925 | 18 | 2235 | 76 |  667 |\n",
       "\n"
      ],
      "text/plain": [
       "     winner_ht winner_age loser_ht loser_age winner_rank winner_rank_points\n",
       "1    178       29.00479   188      31.88227   9          3590              \n",
       "2    178       29.00479   188      27.62765   9          3590              \n",
       "3    188       31.88227   193      23.67967  40          1050              \n",
       "⋮    ⋮         ⋮          ⋮        ⋮         ⋮           ⋮                 \n",
       "2906 188       32.59411   178      33.68925  15          2320              \n",
       "2907 163       26.95414   188      32.59411   7          3775              \n",
       "2908 185       23.73990   178      33.68925  18          2235              \n",
       "     loser_rank loser_rank_points\n",
       "1    40         1050             \n",
       "2    19         1835             \n",
       "3    35         1125             \n",
       "⋮    ⋮          ⋮                \n",
       "2906 76          667             \n",
       "2907 15         2320             \n",
       "2908 76          667             "
      ]
     },
     "metadata": {},
     "output_type": "display_data"
    }
   ],
   "source": [
    "#drop_na function is an easy way to drop rows with NA values\n",
    "\n",
    "library(tidyr)\n",
    "ATP_data_tidy <- drop_na(ATP_data_trimmed)\n",
    "ATP_data_tidy"
   ]
  },
  {
   "cell_type": "markdown",
   "metadata": {},
   "source": [
    "As indicated by the column titles, this dataset has grouped players based on the outcomes of their matches. However, to answer our predicitve question, we don't need to pay particular attention to whether or not a player won a given match, just their attributes after the match.\n",
    "\n",
    "Therefore, to truly get this data into a tidy format, we need to combine like-for-like columns between the winner cateogries and the loser categories, as several of these categories are a part of the same variable for the purposes of this analysis. An example would be combining the winner_age column with the loser_age column, as they both account for the age of the players.\n",
    "\n",
    "Our data has to go from wide to long to be considered 'tidy' for the purposes of this project:"
   ]
  },
  {
   "cell_type": "code",
   "execution_count": 5,
   "metadata": {},
   "outputs": [
    {
     "data": {
      "text/html": [
       "<table>\n",
       "<caption>A tibble: 5816 × 4</caption>\n",
       "<thead>\n",
       "\t<tr><th scope=col>height</th><th scope=col>age</th><th scope=col>rank</th><th scope=col>rank_points</th></tr>\n",
       "\t<tr><th scope=col>&lt;dbl&gt;</th><th scope=col>&lt;dbl&gt;</th><th scope=col>&lt;dbl&gt;</th><th scope=col>&lt;dbl&gt;</th></tr>\n",
       "</thead>\n",
       "<tbody>\n",
       "\t<tr><td>178</td><td>29.00479</td><td> 9</td><td>3590</td></tr>\n",
       "\t<tr><td>178</td><td>29.00479</td><td> 9</td><td>3590</td></tr>\n",
       "\t<tr><td>188</td><td>31.88227</td><td>40</td><td>1050</td></tr>\n",
       "\t<tr><td>⋮</td><td>⋮</td><td>⋮</td><td>⋮</td></tr>\n",
       "\t<tr><td>178</td><td>33.68925</td><td>76</td><td> 667</td></tr>\n",
       "\t<tr><td>188</td><td>32.59411</td><td>15</td><td>2320</td></tr>\n",
       "\t<tr><td>178</td><td>33.68925</td><td>76</td><td> 667</td></tr>\n",
       "</tbody>\n",
       "</table>\n"
      ],
      "text/latex": [
       "A tibble: 5816 × 4\n",
       "\\begin{tabular}{llll}\n",
       " height & age & rank & rank\\_points\\\\\n",
       " <dbl> & <dbl> & <dbl> & <dbl>\\\\\n",
       "\\hline\n",
       "\t 178 & 29.00479 &  9 & 3590\\\\\n",
       "\t 178 & 29.00479 &  9 & 3590\\\\\n",
       "\t 188 & 31.88227 & 40 & 1050\\\\\n",
       "\t ⋮ & ⋮ & ⋮ & ⋮\\\\\n",
       "\t 178 & 33.68925 & 76 &  667\\\\\n",
       "\t 188 & 32.59411 & 15 & 2320\\\\\n",
       "\t 178 & 33.68925 & 76 &  667\\\\\n",
       "\\end{tabular}\n"
      ],
      "text/markdown": [
       "\n",
       "A tibble: 5816 × 4\n",
       "\n",
       "| height &lt;dbl&gt; | age &lt;dbl&gt; | rank &lt;dbl&gt; | rank_points &lt;dbl&gt; |\n",
       "|---|---|---|---|\n",
       "| 178 | 29.00479 |  9 | 3590 |\n",
       "| 178 | 29.00479 |  9 | 3590 |\n",
       "| 188 | 31.88227 | 40 | 1050 |\n",
       "| ⋮ | ⋮ | ⋮ | ⋮ |\n",
       "| 178 | 33.68925 | 76 |  667 |\n",
       "| 188 | 32.59411 | 15 | 2320 |\n",
       "| 178 | 33.68925 | 76 |  667 |\n",
       "\n"
      ],
      "text/plain": [
       "     height age      rank rank_points\n",
       "1    178    29.00479  9   3590       \n",
       "2    178    29.00479  9   3590       \n",
       "3    188    31.88227 40   1050       \n",
       "⋮    ⋮      ⋮        ⋮    ⋮          \n",
       "5814 178    33.68925 76    667       \n",
       "5815 188    32.59411 15   2320       \n",
       "5816 178    33.68925 76    667       "
      ]
     },
     "metadata": {},
     "output_type": "display_data"
    }
   ],
   "source": [
    "#Seperate the data into two dataframes, one for the 'winner' group and one for the 'loser' group by selecting columns based on the title of columns\n",
    "#This is done with the goal of recombining the columns into one, with common variables held under one column. I.e. winner_ht and loser_ht under height\n",
    "\n",
    "#The select argument is used to select winner and loser columns in the dataframe to make new dataframes out of\n",
    "\n",
    "ATP_data_tidy_win <- ATP_data_tidy %>% \n",
    "    select(winner_ht, winner_age, winner_rank, winner_rank_points)\n",
    "\n",
    "#In order to use the rbind function to later to combine the dataframes, the columns in each dataset need to have the same names\n",
    "#Therefore, the columns are renamed using the rename function to have the 'winner' or 'loser' tag removed\n",
    "\n",
    "ATP_data_tidy_win_renamed <- ATP_data_tidy_win %>%\n",
    "rename(height = winner_ht,\n",
    "      age = winner_age,\n",
    "      rank = winner_rank,\n",
    "      rank_points = winner_rank_points)\n",
    "\n",
    "ATP_data_tidy_loser <- ATP_data_tidy %>%\n",
    "    select(loser_ht, loser_age, loser_rank, loser_rank_points)\n",
    "\n",
    "ATP_data_tidy_loser_renamed <- ATP_data_tidy_loser %>%\n",
    "rename(height = loser_ht,\n",
    "      age = loser_age,\n",
    "      rank = loser_rank,\n",
    "      rank_points = loser_rank_points)\n",
    "\n",
    "#rbind is used to combine, or attach, two dataframes which have the same column names. The rows of one dataframe will be placed after the other\n",
    "\n",
    "ATP_data_tidy_combined <- rbind(ATP_data_tidy_win_renamed, ATP_data_tidy_loser_renamed)\n",
    "ATP_data_tidy_combined"
   ]
  },
  {
   "cell_type": "markdown",
   "metadata": {},
   "source": [
    "Now we have created a dataframe which has combined both the 'winner' and 'loser' data. This data is clean because: Each column is a single variable, each value is a single cell, and each row is a unqiue observation. Each row applies to a particular player after a partiuclar match. All relevant numerical variables provided to us by the dataset are featured in our 'cleaned' dataframe. Our strata/target variable, rank, is included in our 'cleaned' dataframe.\n",
    "\n",
    "We can use this dataframe to develop a regression model which will predict a players' rank based on their age, height and rank points."
   ]
  },
  {
   "cell_type": "markdown",
   "metadata": {},
   "source": [
    "To build a regression model, we first need to seperate the data into training and testing datasets. Split the data using 75% of the ATP_data_tidy_combined as the training set and set rank as the strata argument. Store this data into an object called ATP_split. The 25% of the ATP_data_tidy_combined is then the testing set. Set.seed is used to make the whole process reproducible. "
   ]
  },
  {
   "cell_type": "code",
   "execution_count": 12,
   "metadata": {},
   "outputs": [],
   "source": [
    "set.seed(1)\n",
    "ATP_split <- initial_split(ATP_data_tidy_combined, prop = 0.75, strata = rank)\n",
    "ATP_training <- training(ATP_split)\n",
    "ATP_testing <- testing(ATP_split)"
   ]
  },
  {
   "cell_type": "markdown",
   "metadata": {},
   "source": [
    "Next, we’ll use cross-validation on our training data to choose  𝑘 . We will use RMPSE to use the K with the highest acccuracy. If the prediction values are very close to the true values, the RMSPE will be small; if the prediction values are not very close to the true values, the RMSPE will be quite large.\n",
    "\n",
    "To perform a cross-validation, we first create a model specification for  𝑘 -nn. We want to use the straight-line distance for kknn and set_mode(\"regression\") in the model specification because we are dealing with a regression problem. The model specification is stored in in an object called ATP_spec.\n",
    "\n",
    "Then, we need to create a recipe to preprocess our data. The recipe is stored in ATP_recipe The recipe should specify that the response variable is the player's rank and the predictors are the players' height, age, and rank_point.\n",
    "\n",
    "Similar to previous step, set.seed is used to make the whole process reproducible. "
   ]
  },
  {
   "cell_type": "code",
   "execution_count": 13,
   "metadata": {},
   "outputs": [],
   "source": [
    "set.seed(1) #DO NOT REMOVE\n",
    "\n",
    "ATP_spec <- nearest_neighbor(weight_func = \"rectangular\", neighbors = tune()) %>% \n",
    "       set_engine(\"kknn\") %>%\n",
    "       set_mode(\"regression\") \n",
    "\n",
    "ATP_recipe <- recipe(rank ~., data = ATP_training) %>%\n",
    "           step_scale(all_predictors()) %>%\n",
    "           step_center(all_predictors())"
   ]
  },
  {
   "cell_type": "markdown",
   "metadata": {},
   "source": [
    "Now, we are performing a cross-validation with 5 folds to create 5 classifiers with the training data. "
   ]
  },
  {
   "cell_type": "code",
   "execution_count": 14,
   "metadata": {},
   "outputs": [],
   "source": [
    "set.seed(1) # DO NOT REMOVE\n",
    "ATP_vfold <- vfold_cv(ATP_training, v = 5, strata = rank)\n",
    "ATP_workflow <- workflow() %>%\n",
    "  add_recipe(ATP_recipe) %>%\n",
    "  add_model(ATP_spec)"
   ]
  },
  {
   "cell_type": "markdown",
   "metadata": {},
   "source": [
    "Now, we are using RMSPE to find the best setting for  𝑘  from our workflow. We use 200 values to test 𝑘: we create a tibble called gridvals with a column called neighbors that contains a sequence of values, 1 to 200. \n",
    "\n",
    "Next, we tune workflow, which will test all the values in gridvals and resamples using the cross-validation data set. "
   ]
  },
  {
   "cell_type": "code",
   "execution_count": 17,
   "metadata": {},
   "outputs": [
    {
     "data": {
      "text/html": [
       "<table>\n",
       "<caption>A tibble: 400 × 7</caption>\n",
       "<thead>\n",
       "\t<tr><th scope=col>neighbors</th><th scope=col>.metric</th><th scope=col>.estimator</th><th scope=col>mean</th><th scope=col>n</th><th scope=col>std_err</th><th scope=col>.config</th></tr>\n",
       "\t<tr><th scope=col>&lt;int&gt;</th><th scope=col>&lt;chr&gt;</th><th scope=col>&lt;chr&gt;</th><th scope=col>&lt;dbl&gt;</th><th scope=col>&lt;int&gt;</th><th scope=col>&lt;dbl&gt;</th><th scope=col>&lt;chr&gt;</th></tr>\n",
       "</thead>\n",
       "<tbody>\n",
       "\t<tr><td>1</td><td>rmse</td><td>standard</td><td>22.9015982</td><td>5</td><td>3.13061578</td><td>Model001</td></tr>\n",
       "\t<tr><td>1</td><td>rsq </td><td>standard</td><td> 0.8608673</td><td>5</td><td>0.04384387</td><td>Model001</td></tr>\n",
       "\t<tr><td>2</td><td>rmse</td><td>standard</td><td>22.3602309</td><td>5</td><td>2.89218806</td><td>Model002</td></tr>\n",
       "\t<tr><td>⋮</td><td>⋮</td><td>⋮</td><td>⋮</td><td>⋮</td><td>⋮</td><td>⋮</td></tr>\n",
       "\t<tr><td>199</td><td>rsq </td><td>standard</td><td> 0.4438803</td><td>5</td><td>0.02618226</td><td>Model199</td></tr>\n",
       "\t<tr><td>200</td><td>rmse</td><td>standard</td><td>48.1625168</td><td>5</td><td>2.54391156</td><td>Model200</td></tr>\n",
       "\t<tr><td>200</td><td>rsq </td><td>standard</td><td> 0.4431099</td><td>5</td><td>0.02601705</td><td>Model200</td></tr>\n",
       "</tbody>\n",
       "</table>\n"
      ],
      "text/latex": [
       "A tibble: 400 × 7\n",
       "\\begin{tabular}{lllllll}\n",
       " neighbors & .metric & .estimator & mean & n & std\\_err & .config\\\\\n",
       " <int> & <chr> & <chr> & <dbl> & <int> & <dbl> & <chr>\\\\\n",
       "\\hline\n",
       "\t 1 & rmse & standard & 22.9015982 & 5 & 3.13061578 & Model001\\\\\n",
       "\t 1 & rsq  & standard &  0.8608673 & 5 & 0.04384387 & Model001\\\\\n",
       "\t 2 & rmse & standard & 22.3602309 & 5 & 2.89218806 & Model002\\\\\n",
       "\t ⋮ & ⋮ & ⋮ & ⋮ & ⋮ & ⋮ & ⋮\\\\\n",
       "\t 199 & rsq  & standard &  0.4438803 & 5 & 0.02618226 & Model199\\\\\n",
       "\t 200 & rmse & standard & 48.1625168 & 5 & 2.54391156 & Model200\\\\\n",
       "\t 200 & rsq  & standard &  0.4431099 & 5 & 0.02601705 & Model200\\\\\n",
       "\\end{tabular}\n"
      ],
      "text/markdown": [
       "\n",
       "A tibble: 400 × 7\n",
       "\n",
       "| neighbors &lt;int&gt; | .metric &lt;chr&gt; | .estimator &lt;chr&gt; | mean &lt;dbl&gt; | n &lt;int&gt; | std_err &lt;dbl&gt; | .config &lt;chr&gt; |\n",
       "|---|---|---|---|---|---|---|\n",
       "| 1 | rmse | standard | 22.9015982 | 5 | 3.13061578 | Model001 |\n",
       "| 1 | rsq  | standard |  0.8608673 | 5 | 0.04384387 | Model001 |\n",
       "| 2 | rmse | standard | 22.3602309 | 5 | 2.89218806 | Model002 |\n",
       "| ⋮ | ⋮ | ⋮ | ⋮ | ⋮ | ⋮ | ⋮ |\n",
       "| 199 | rsq  | standard |  0.4438803 | 5 | 0.02618226 | Model199 |\n",
       "| 200 | rmse | standard | 48.1625168 | 5 | 2.54391156 | Model200 |\n",
       "| 200 | rsq  | standard |  0.4431099 | 5 | 0.02601705 | Model200 |\n",
       "\n"
      ],
      "text/plain": [
       "    neighbors .metric .estimator mean       n std_err    .config \n",
       "1   1         rmse    standard   22.9015982 5 3.13061578 Model001\n",
       "2   1         rsq     standard    0.8608673 5 0.04384387 Model001\n",
       "3   2         rmse    standard   22.3602309 5 2.89218806 Model002\n",
       "⋮   ⋮         ⋮       ⋮          ⋮          ⋮ ⋮          ⋮       \n",
       "398 199       rsq     standard    0.4438803 5 0.02618226 Model199\n",
       "399 200       rmse    standard   48.1625168 5 2.54391156 Model200\n",
       "400 200       rsq     standard    0.4431099 5 0.02601705 Model200"
      ]
     },
     "metadata": {},
     "output_type": "display_data"
    }
   ],
   "source": [
    "set.seed(1) # DO NOT CHANGE\n",
    "gridvals <- tibble(neighbors = seq(1, 200))\n",
    "ATP_results <- ATP_workflow %>%\n",
    "  tune_grid(resamples = ATP_vfold, grid = gridvals) %>%\n",
    "  collect_metrics() \n",
    "ATP_results"
   ]
  },
  {
   "cell_type": "markdown",
   "metadata": {},
   "source": [
    "Now we are finding the minimum RMSPE to help us find the number of neighbors that will serve as our best  𝑘  value."
   ]
  },
  {
   "cell_type": "code",
   "execution_count": 18,
   "metadata": {},
   "outputs": [
    {
     "data": {
      "text/html": [
       "<table>\n",
       "<caption>A tibble: 1 × 7</caption>\n",
       "<thead>\n",
       "\t<tr><th scope=col>neighbors</th><th scope=col>.metric</th><th scope=col>.estimator</th><th scope=col>mean</th><th scope=col>n</th><th scope=col>std_err</th><th scope=col>.config</th></tr>\n",
       "\t<tr><th scope=col>&lt;int&gt;</th><th scope=col>&lt;chr&gt;</th><th scope=col>&lt;chr&gt;</th><th scope=col>&lt;dbl&gt;</th><th scope=col>&lt;int&gt;</th><th scope=col>&lt;dbl&gt;</th><th scope=col>&lt;chr&gt;</th></tr>\n",
       "</thead>\n",
       "<tbody>\n",
       "\t<tr><td>3</td><td>rmse</td><td>standard</td><td>21.79979</td><td>5</td><td>1.318097</td><td>Model003</td></tr>\n",
       "</tbody>\n",
       "</table>\n"
      ],
      "text/latex": [
       "A tibble: 1 × 7\n",
       "\\begin{tabular}{lllllll}\n",
       " neighbors & .metric & .estimator & mean & n & std\\_err & .config\\\\\n",
       " <int> & <chr> & <chr> & <dbl> & <int> & <dbl> & <chr>\\\\\n",
       "\\hline\n",
       "\t 3 & rmse & standard & 21.79979 & 5 & 1.318097 & Model003\\\\\n",
       "\\end{tabular}\n"
      ],
      "text/markdown": [
       "\n",
       "A tibble: 1 × 7\n",
       "\n",
       "| neighbors &lt;int&gt; | .metric &lt;chr&gt; | .estimator &lt;chr&gt; | mean &lt;dbl&gt; | n &lt;int&gt; | std_err &lt;dbl&gt; | .config &lt;chr&gt; |\n",
       "|---|---|---|---|---|---|---|\n",
       "| 3 | rmse | standard | 21.79979 | 5 | 1.318097 | Model003 |\n",
       "\n"
      ],
      "text/plain": [
       "  neighbors .metric .estimator mean     n std_err  .config \n",
       "1 3         rmse    standard   21.79979 5 1.318097 Model003"
      ]
     },
     "metadata": {},
     "output_type": "display_data"
    }
   ],
   "source": [
    "set.seed(1) # DO NOT REMOVE\n",
    "\n",
    "ATP_min <- ATP_results %>%\n",
    "    filter(.metric == \"rmse\") %>%\n",
    "    arrange(mean) %>% \n",
    "    slice(1)\n",
    "ATP_min"
   ]
  },
  {
   "cell_type": "markdown",
   "metadata": {},
   "source": [
    "Now we know the best k value to use in kknn specification is 3. We will then use is k value to re-train the k-nn regression model on the training data set.\n",
    "\n",
    "Following that, we will repeat the workflow analysis again with the best k value. \n",
    "\n",
    "Then, we will use the predict function to make predictions on the test data, and use the metrics function to compute a summary of the regression's quality. "
   ]
  },
  {
   "cell_type": "code",
   "execution_count": 20,
   "metadata": {},
   "outputs": [
    {
     "data": {
      "text/html": [
       "<table>\n",
       "<caption>A tibble: 1 × 3</caption>\n",
       "<thead>\n",
       "\t<tr><th scope=col>.metric</th><th scope=col>.estimator</th><th scope=col>.estimate</th></tr>\n",
       "\t<tr><th scope=col>&lt;chr&gt;</th><th scope=col>&lt;chr&gt;</th><th scope=col>&lt;dbl&gt;</th></tr>\n",
       "</thead>\n",
       "<tbody>\n",
       "\t<tr><td>rmse</td><td>standard</td><td>45.15489</td></tr>\n",
       "</tbody>\n",
       "</table>\n"
      ],
      "text/latex": [
       "A tibble: 1 × 3\n",
       "\\begin{tabular}{lll}\n",
       " .metric & .estimator & .estimate\\\\\n",
       " <chr> & <chr> & <dbl>\\\\\n",
       "\\hline\n",
       "\t rmse & standard & 45.15489\\\\\n",
       "\\end{tabular}\n"
      ],
      "text/markdown": [
       "\n",
       "A tibble: 1 × 3\n",
       "\n",
       "| .metric &lt;chr&gt; | .estimator &lt;chr&gt; | .estimate &lt;dbl&gt; |\n",
       "|---|---|---|\n",
       "| rmse | standard | 45.15489 |\n",
       "\n"
      ],
      "text/plain": [
       "  .metric .estimator .estimate\n",
       "1 rmse    standard   45.15489 "
      ]
     },
     "metadata": {},
     "output_type": "display_data"
    }
   ],
   "source": [
    "k_min <- ATP_min %>%\n",
    "          pull(neighbors)\n",
    "\n",
    "ATP_best_spec <- nearest_neighbor(weight_func = \"rectangular\", neighbors = k_min) %>%\n",
    "          set_engine(\"kknn\") %>%\n",
    "          set_mode(\"regression\")\n",
    "\n",
    "ATP_best_fit <- workflow() %>%\n",
    "          add_recipe(ATP_recipe) %>%\n",
    "          add_model(ATP_best_spec) %>%\n",
    "          fit(data = ATP_training)\n",
    "\n",
    "ATP_summary <- ATP_best_fit %>%\n",
    "           predict(ATP_testing) %>%\n",
    "           bind_cols(ATP_testing) %>%\n",
    "           metrics(truth = rank, estimate =.pred)%>%\n",
    "           filter(.metric == 'rmse')\n",
    "ATP_summary"
   ]
  },
  {
   "cell_type": "markdown",
   "metadata": {},
   "source": [
    "Our final model’s test error as assessed by RMSPE is 45.15489, meaning that we expect the error in our prediction to be roughly 45.15489 in ranking. \n",
    "\n"
   ]
  }
 ],
 "metadata": {
  "kernelspec": {
   "display_name": "R",
   "language": "R",
   "name": "ir"
  },
  "language_info": {
   "codemirror_mode": "r",
   "file_extension": ".r",
   "mimetype": "text/x-r-source",
   "name": "R",
   "pygments_lexer": "r",
   "version": "4.0.0"
  }
 },
 "nbformat": 4,
 "nbformat_minor": 4
}
